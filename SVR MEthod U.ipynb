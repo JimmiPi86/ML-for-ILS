{
 "cells": [
  {
   "cell_type": "code",
   "execution_count": 1,
   "id": "3f44326b",
   "metadata": {},
   "outputs": [],
   "source": [
    "#import libraries\n",
    "import numpy as np\n",
    "import pandas as pd\n",
    "import seaborn as sns\n",
    "from sklearn.model_selection import train_test_split\n",
    "from sklearn.preprocessing import StandardScaler\n",
    "from sklearn.metrics import mean_squared_error\n",
    "from sklearn.svm import SVR\n",
    "from sklearn.metrics import r2_score"
   ]
  },
  {
   "cell_type": "code",
   "execution_count": 2,
   "id": "01e11777",
   "metadata": {},
   "outputs": [],
   "source": [
    "df = pd.read_csv('zbior_23.csv',encoding = 'utf8',sep=';')\n",
    "X = df[['M_C', 'M_A', 'SYM', 'P', 'T']].values\n",
    "y = df[['EXP U']].values\n"
   ]
  },
  {
   "cell_type": "code",
   "execution_count": 3,
   "id": "efbdb2a2",
   "metadata": {},
   "outputs": [
    {
     "name": "stdout",
     "output_type": "stream",
     "text": [
      "(1719, 5)\n",
      "(1719, 1)\n",
      "Test shapes\n",
      "(1146, 5)\n",
      "(1146, 1)\n"
     ]
    }
   ],
   "source": [
    "'''Przygotowanie danych - podzielenie danych na zbiór trenujacy i testowy'''\n",
    "\n",
    "X_train, X_test, y_train, y_test = train_test_split(\n",
    "X,y,test_size = 0.4, random_state = 42)\n",
    "\n",
    "print(X_train.shape)\n",
    "print(y_train.shape)\n",
    "print('Test shapes')\n",
    "print(X_test.shape)\n",
    "print(y_test.shape)"
   ]
  },
  {
   "cell_type": "code",
   "execution_count": 4,
   "id": "e0a2ee05",
   "metadata": {},
   "outputs": [],
   "source": [
    "# Skalowanie cech dla lepszej wydajności modelu SVR\n",
    "scaler = StandardScaler()\n",
    "X_train = scaler.fit_transform(X_train)\n",
    "X_test = scaler.transform(X_test)\n"
   ]
  },
  {
   "cell_type": "code",
   "execution_count": 5,
   "id": "0b08f9e4",
   "metadata": {},
   "outputs": [],
   "source": [
    "y_train = y_train.ravel()\n",
    "y_test = y_test.ravel()"
   ]
  },
  {
   "cell_type": "markdown",
   "id": "fb92aed9",
   "metadata": {},
   "source": [
    "# SVR z jądrem liniowym"
   ]
  },
  {
   "cell_type": "code",
   "execution_count": 6,
   "id": "70f6b83d",
   "metadata": {},
   "outputs": [],
   "source": [
    "svr_model = SVR()"
   ]
  },
  {
   "cell_type": "code",
   "execution_count": 7,
   "id": "a52220f2",
   "metadata": {},
   "outputs": [
    {
     "data": {
      "text/plain": [
       "SVR()"
      ]
     },
     "execution_count": 7,
     "metadata": {},
     "output_type": "execute_result"
    }
   ],
   "source": [
    "svr_model.fit(X_train, y_train)"
   ]
  },
  {
   "cell_type": "code",
   "execution_count": 8,
   "id": "7aad7061",
   "metadata": {},
   "outputs": [],
   "source": [
    "y_pred = svr_model.predict(X_test)"
   ]
  },
  {
   "cell_type": "code",
   "execution_count": 9,
   "id": "b8ee0a84",
   "metadata": {},
   "outputs": [
    {
     "data": {
      "text/plain": [
       "array([1320.97332449, 1460.77356984, 1495.28850509, ..., 1488.69214261,\n",
       "       1538.76292994, 1450.36379954])"
      ]
     },
     "execution_count": 9,
     "metadata": {},
     "output_type": "execute_result"
    }
   ],
   "source": [
    "y_pred"
   ]
  },
  {
   "cell_type": "code",
   "execution_count": 10,
   "id": "9247be77",
   "metadata": {},
   "outputs": [
    {
     "name": "stdout",
     "output_type": "stream",
     "text": [
      "Współczynnik determinacji R^2: 0.662744887189445\n"
     ]
    }
   ],
   "source": [
    "\n",
    "r2 = r2_score(y_test, y_pred)\n",
    "print(f\"Współczynnik determinacji R^2: {r2}\")"
   ]
  },
  {
   "cell_type": "code",
   "execution_count": 11,
   "id": "3aeaf031",
   "metadata": {},
   "outputs": [],
   "source": [
    "specific_params = [[62.061, 73.071, 0, 0.1, 298.15],  # Przykładowe konkretne parametry\n",
    "                   [125.190, 125.124, 1, 100.0, 303.15]]  # Kolejne przykładowe konkretne parametry\n",
    "specific_params_scaled = scaler.transform(specific_params)"
   ]
  },
  {
   "cell_type": "code",
   "execution_count": 12,
   "id": "65051819",
   "metadata": {},
   "outputs": [],
   "source": [
    "predictions = svr_model.predict(specific_params_scaled)"
   ]
  },
  {
   "cell_type": "code",
   "execution_count": 13,
   "id": "172f956f",
   "metadata": {},
   "outputs": [
    {
     "name": "stdout",
     "output_type": "stream",
     "text": [
      "Dla parametrów [62.061, 73.071, 0, 0.1, 298.15] przewidywana wartość Rho: 1555.1886675361911\n",
      "Dla parametrów [125.19, 125.124, 1, 100.0, 303.15] przewidywana wartość Rho: 1554.874703672898\n"
     ]
    }
   ],
   "source": [
    "for i, params in enumerate(specific_params):\n",
    "    print(f\"Dla parametrów {params} przewidywana wartość Rho: {predictions[i]}\")"
   ]
  },
  {
   "cell_type": "code",
   "execution_count": null,
   "id": "c3fe5538",
   "metadata": {},
   "outputs": [],
   "source": []
  },
  {
   "cell_type": "code",
   "execution_count": null,
   "id": "f286316a",
   "metadata": {},
   "outputs": [],
   "source": []
  },
  {
   "cell_type": "markdown",
   "id": "3d62b9ca",
   "metadata": {},
   "source": [
    "# Jądra różne"
   ]
  },
  {
   "cell_type": "markdown",
   "id": "a40f539b",
   "metadata": {},
   "source": [
    "## Liniowy "
   ]
  },
  {
   "cell_type": "code",
   "execution_count": 14,
   "id": "bc24df2a",
   "metadata": {},
   "outputs": [],
   "source": [
    "svr_linear = SVR(kernel='linear')"
   ]
  },
  {
   "cell_type": "code",
   "execution_count": 15,
   "id": "8fa1b815",
   "metadata": {},
   "outputs": [
    {
     "name": "stdout",
     "output_type": "stream",
     "text": [
      "Współczynnik determinacji R^2: 0.8579541708436698\n",
      "Błąd średniokwadratowy MSE: 4665.925303408581\n"
     ]
    }
   ],
   "source": [
    "svr_linear.fit(X_train, y_train)\n",
    "y_pred_linear = svr_linear.predict(X_test)\n",
    "y_pred\n",
    "r2 = r2_score(y_test, y_pred_linear)\n",
    "print(f\"Współczynnik determinacji R^2: {r2}\")\n",
    "mse = mean_squared_error(y_test, y_pred_linear)\n",
    "print(f\"Błąd średniokwadratowy MSE: {mse}\")"
   ]
  },
  {
   "cell_type": "markdown",
   "id": "8fde725a",
   "metadata": {},
   "source": [
    "## Wielomianowy"
   ]
  },
  {
   "cell_type": "code",
   "execution_count": 16,
   "id": "d54798ee",
   "metadata": {},
   "outputs": [
    {
     "name": "stdout",
     "output_type": "stream",
     "text": [
      "Współczynnik determinacji R^2: 0.1396834091436474\n",
      "Błąd średniokwadratowy MSE: 28259.70304134038\n"
     ]
    }
   ],
   "source": [
    "svr_poly = SVR(kernel='poly',degree=2)\n",
    "svr_poly.fit(X_train, y_train)\n",
    "y_pred_poly = svr_poly.predict(X_test)\n",
    "y_pred_poly\n",
    "r2 = r2_score(y_test, y_pred_poly)\n",
    "print(f\"Współczynnik determinacji R^2: {r2}\")\n",
    "mse = mean_squared_error(y_test, y_pred_poly)\n",
    "print(f\"Błąd średniokwadratowy MSE: {mse}\")"
   ]
  },
  {
   "cell_type": "markdown",
   "id": "50d46262",
   "metadata": {},
   "source": [
    "## Radialna funkcja bazowa RBF "
   ]
  },
  {
   "cell_type": "code",
   "execution_count": 17,
   "id": "9848f2bb",
   "metadata": {},
   "outputs": [
    {
     "name": "stdout",
     "output_type": "stream",
     "text": [
      "Współczynnik determinacji R^2: 0.6686469130548031\n",
      "Błąd średniokwadratowy MSE: 10884.295314567758\n"
     ]
    }
   ],
   "source": [
    "svr_rbf = SVR(kernel='rbf',gamma=0.1)\n",
    "svr_rbf.fit(X_train, y_train)\n",
    "y_pred_rbf = svr_rbf.predict(X_test)\n",
    "y_pred_rbf\n",
    "r2 = r2_score(y_test, y_pred_rbf)\n",
    "print(f\"Współczynnik determinacji R^2: {r2}\")\n",
    "mse = mean_squared_error(y_test, y_pred_rbf)\n",
    "print(f\"Błąd średniokwadratowy MSE: {mse}\")"
   ]
  },
  {
   "cell_type": "code",
   "execution_count": null,
   "id": "8635afd5",
   "metadata": {},
   "outputs": [],
   "source": []
  },
  {
   "cell_type": "code",
   "execution_count": null,
   "id": "0e1bfd9a",
   "metadata": {},
   "outputs": [],
   "source": []
  },
  {
   "cell_type": "code",
   "execution_count": null,
   "id": "f8ffb4e7",
   "metadata": {},
   "outputs": [],
   "source": []
  },
  {
   "cell_type": "code",
   "execution_count": null,
   "id": "9a3a45ba",
   "metadata": {},
   "outputs": [],
   "source": []
  },
  {
   "cell_type": "code",
   "execution_count": null,
   "id": "0110483d",
   "metadata": {},
   "outputs": [],
   "source": []
  },
  {
   "cell_type": "markdown",
   "id": "9425c790",
   "metadata": {},
   "source": [
    "## Jądro sigmoidalne "
   ]
  },
  {
   "cell_type": "code",
   "execution_count": 18,
   "id": "9ce692c1",
   "metadata": {},
   "outputs": [
    {
     "name": "stdout",
     "output_type": "stream",
     "text": [
      "Współczynnik determinacji R^2: 0.7426289459214919\n",
      "Błąd średniokwadratowy MSE: 8454.131463925014\n",
      "Współczynnik determinacji R^2: 0.7310479483586687\n",
      "Błąd średniokwadratowy MSE: 9561.540222745532\n"
     ]
    }
   ],
   "source": [
    "svr_sigmoid = SVR(kernel='sigmoid',gamma=0.3)\n",
    "svr_sigmoid.fit(X_train, y_train)\n",
    "test_predictions_sigmoid = svr_sigmoid.predict(X_test)\n",
    "# y_pred_sigmoid\n",
    "\n",
    "###Metryki błędu dla zbioru testowego\n",
    "r2 = r2_score(y_test, test_predictions_sigmoid)\n",
    "print(f\"Współczynnik determinacji R^2: {r2}\")\n",
    "mse = mean_squared_error(y_test, test_predictions_sigmoid)\n",
    "print(f\"Błąd średniokwadratowy MSE: {mse}\")\n",
    "###Metryki błędu dla zbioru treningowego\n",
    "train_predictions_sigmoid =svr_sigmoid.predict(X_train)\n",
    "r2_train = r2_score(y_train, train_predictions_sigmoid)\n",
    "print(f\"Współczynnik determinacji R^2: {r2_train}\")\n",
    "mse_train = mean_squared_error(y_train, train_predictions_sigmoid)\n",
    "print(f\"Błąd średniokwadratowy MSE: {mse_train}\")"
   ]
  },
  {
   "cell_type": "code",
   "execution_count": 19,
   "id": "e8c2aae7",
   "metadata": {},
   "outputs": [
    {
     "data": {
      "text/plain": [
       "(1146,)"
      ]
     },
     "execution_count": 19,
     "metadata": {},
     "output_type": "execute_result"
    }
   ],
   "source": [
    "test_predictions_sigmoid.shape"
   ]
  },
  {
   "cell_type": "code",
   "execution_count": 19,
   "id": "7ef9398b",
   "metadata": {},
   "outputs": [
    {
     "name": "stdout",
     "output_type": "stream",
     "text": [
      "Średni R^2 po walidacji krzyżowej: 0.7370603640228763\n"
     ]
    }
   ],
   "source": [
    "from sklearn.model_selection import cross_val_score\n",
    "# Przeprowadź walidację krzyżową z 5 foldami i oblicz R^2 jakość modelu\n",
    "cv_scores_test = cross_val_score(svr_sigmoid, X_test, y_test, cv=25, scoring='r2')\n",
    "# Oblicz średnią wartość R^2 po wszystkich foldach\n",
    "mean_r2_test = cv_scores_test.mean()\n",
    "print(\"Średni R^2 po walidacji krzyżowej:\", mean_r2_test)"
   ]
  },
  {
   "cell_type": "code",
   "execution_count": 20,
   "id": "0ec8fd3b",
   "metadata": {},
   "outputs": [],
   "source": [
    "test_predictions_sigmoid = pd.Series(test_predictions_sigmoid)\n",
    "pred_df = pd.DataFrame(y_test,columns = ['Test TRUE Y'])\n",
    "pred_df = pd.concat([pred_df,test_predictions_sigmoid],axis = 1)\n",
    "pred_df.columns = ['Test true y', 'Pred']\n"
   ]
  },
  {
   "cell_type": "code",
   "execution_count": 21,
   "id": "47074242",
   "metadata": {},
   "outputs": [],
   "source": [
    "train_predictions_sigmoid = pd.Series(train_predictions_sigmoid)\n",
    "train_df = pd.DataFrame(y_train,columns = ['Test TRUE Y'])\n",
    "train_df = pd.concat([train_df,train_predictions_sigmoid],axis = 1)\n",
    "train_df.columns = ['Test true y', 'Pred']"
   ]
  },
  {
   "cell_type": "code",
   "execution_count": 22,
   "id": "91fbcffc",
   "metadata": {},
   "outputs": [
    {
     "data": {
      "text/plain": [
       "<Axes: xlabel='Test true y', ylabel='Pred'>"
      ]
     },
     "execution_count": 22,
     "metadata": {},
     "output_type": "execute_result"
    },
    {
     "data": {
      "image/png": "[encoded data removed]",
      "text/plain": [
       "<Figure size 432x288 with 1 Axes>"
      ]
     },
     "metadata": {
      "needs_background": "light"
     },
     "output_type": "display_data"
    }
   ],
   "source": [
    "sns.scatterplot(x = 'Test true y', y = 'Pred', data = train_df)\n",
    "sns.scatterplot(x = 'Test true y', y = 'Pred', data = pred_df, alpha = 0.2)"
   ]
  },
  {
   "cell_type": "code",
   "execution_count": 44,
   "id": "ae69054a",
   "metadata": {},
   "outputs": [
    {
     "data": {
      "text/plain": [
       "'Zrób jutro coś podobnego :) dla train df i uporządkuj dane! '"
      ]
     },
     "execution_count": 44,
     "metadata": {},
     "output_type": "execute_result"
    }
   ],
   "source": [
    "'''Zrób jutro coś podobnego :) dla train df i uporządkuj dane! \n",
    "Stwórz funkcję iterującą jak w przypadku sieci neuronowej\n",
    "Zmień nazwy zmiennych'''"
   ]
  },
  {
   "cell_type": "code",
   "execution_count": 23,
   "id": "381c5fbb",
   "metadata": {},
   "outputs": [
    {
     "data": {
      "text/html": [
       "<div>\n",
       "<style scoped>\n",
       "    .dataframe tbody tr th:only-of-type {\n",
       "        vertical-align: middle;\n",
       "    }\n",
       "\n",
       "    .dataframe tbody tr th {\n",
       "        vertical-align: top;\n",
       "    }\n",
       "\n",
       "    .dataframe thead th {\n",
       "        text-align: right;\n",
       "    }\n",
       "</style>\n",
       "<table border=\"1\" class=\"dataframe\">\n",
       "  <thead>\n",
       "    <tr style=\"text-align: right;\">\n",
       "      <th></th>\n",
       "      <th>Test true y</th>\n",
       "      <th>Pred</th>\n",
       "    </tr>\n",
       "  </thead>\n",
       "  <tbody>\n",
       "    <tr>\n",
       "      <th>0</th>\n",
       "      <td>1613.37</td>\n",
       "      <td>1597.470821</td>\n",
       "    </tr>\n",
       "    <tr>\n",
       "      <th>1</th>\n",
       "      <td>1314.90</td>\n",
       "      <td>1325.005837</td>\n",
       "    </tr>\n",
       "    <tr>\n",
       "      <th>2</th>\n",
       "      <td>1800.81</td>\n",
       "      <td>1565.922140</td>\n",
       "    </tr>\n",
       "    <tr>\n",
       "      <th>3</th>\n",
       "      <td>1267.31</td>\n",
       "      <td>1292.942903</td>\n",
       "    </tr>\n",
       "    <tr>\n",
       "      <th>4</th>\n",
       "      <td>1582.90</td>\n",
       "      <td>1577.720055</td>\n",
       "    </tr>\n",
       "    <tr>\n",
       "      <th>...</th>\n",
       "      <td>...</td>\n",
       "      <td>...</td>\n",
       "    </tr>\n",
       "    <tr>\n",
       "      <th>1714</th>\n",
       "      <td>1377.30</td>\n",
       "      <td>1372.576536</td>\n",
       "    </tr>\n",
       "    <tr>\n",
       "      <th>1715</th>\n",
       "      <td>1360.43</td>\n",
       "      <td>1381.351849</td>\n",
       "    </tr>\n",
       "    <tr>\n",
       "      <th>1716</th>\n",
       "      <td>1246.87</td>\n",
       "      <td>1297.804232</td>\n",
       "    </tr>\n",
       "    <tr>\n",
       "      <th>1717</th>\n",
       "      <td>1557.03</td>\n",
       "      <td>1602.330261</td>\n",
       "    </tr>\n",
       "    <tr>\n",
       "      <th>1718</th>\n",
       "      <td>1349.37</td>\n",
       "      <td>1429.629204</td>\n",
       "    </tr>\n",
       "  </tbody>\n",
       "</table>\n",
       "<p>1719 rows × 2 columns</p>\n",
       "</div>"
      ],
      "text/plain": [
       "      Test true y         Pred\n",
       "0         1613.37  1597.470821\n",
       "1         1314.90  1325.005837\n",
       "2         1800.81  1565.922140\n",
       "3         1267.31  1292.942903\n",
       "4         1582.90  1577.720055\n",
       "...           ...          ...\n",
       "1714      1377.30  1372.576536\n",
       "1715      1360.43  1381.351849\n",
       "1716      1246.87  1297.804232\n",
       "1717      1557.03  1602.330261\n",
       "1718      1349.37  1429.629204\n",
       "\n",
       "[1719 rows x 2 columns]"
      ]
     },
     "execution_count": 23,
     "metadata": {},
     "output_type": "execute_result"
    }
   ],
   "source": [
    "train_df"
   ]
  },
  {
   "cell_type": "code",
   "execution_count": 24,
   "id": "652a454d",
   "metadata": {},
   "outputs": [
    {
     "data": {
      "text/html": [
       "<div>\n",
       "<style scoped>\n",
       "    .dataframe tbody tr th:only-of-type {\n",
       "        vertical-align: middle;\n",
       "    }\n",
       "\n",
       "    .dataframe tbody tr th {\n",
       "        vertical-align: top;\n",
       "    }\n",
       "\n",
       "    .dataframe thead th {\n",
       "        text-align: right;\n",
       "    }\n",
       "</style>\n",
       "<table border=\"1\" class=\"dataframe\">\n",
       "  <thead>\n",
       "    <tr style=\"text-align: right;\">\n",
       "      <th></th>\n",
       "      <th>Test true y</th>\n",
       "      <th>Pred</th>\n",
       "    </tr>\n",
       "  </thead>\n",
       "  <tbody>\n",
       "    <tr>\n",
       "      <th>0</th>\n",
       "      <td>1252.40</td>\n",
       "      <td>1284.149214</td>\n",
       "    </tr>\n",
       "    <tr>\n",
       "      <th>1</th>\n",
       "      <td>1525.30</td>\n",
       "      <td>1456.959751</td>\n",
       "    </tr>\n",
       "    <tr>\n",
       "      <th>2</th>\n",
       "      <td>1481.59</td>\n",
       "      <td>1498.278180</td>\n",
       "    </tr>\n",
       "    <tr>\n",
       "      <th>3</th>\n",
       "      <td>1410.40</td>\n",
       "      <td>1372.679436</td>\n",
       "    </tr>\n",
       "    <tr>\n",
       "      <th>4</th>\n",
       "      <td>1537.50</td>\n",
       "      <td>1537.433095</td>\n",
       "    </tr>\n",
       "    <tr>\n",
       "      <th>...</th>\n",
       "      <td>...</td>\n",
       "      <td>...</td>\n",
       "    </tr>\n",
       "    <tr>\n",
       "      <th>1141</th>\n",
       "      <td>1485.86</td>\n",
       "      <td>1508.547280</td>\n",
       "    </tr>\n",
       "    <tr>\n",
       "      <th>1142</th>\n",
       "      <td>1309.19</td>\n",
       "      <td>1328.744344</td>\n",
       "    </tr>\n",
       "    <tr>\n",
       "      <th>1143</th>\n",
       "      <td>1471.30</td>\n",
       "      <td>1436.781678</td>\n",
       "    </tr>\n",
       "    <tr>\n",
       "      <th>1144</th>\n",
       "      <td>1485.40</td>\n",
       "      <td>1554.194487</td>\n",
       "    </tr>\n",
       "    <tr>\n",
       "      <th>1145</th>\n",
       "      <td>1493.10</td>\n",
       "      <td>1447.039676</td>\n",
       "    </tr>\n",
       "  </tbody>\n",
       "</table>\n",
       "<p>1146 rows × 2 columns</p>\n",
       "</div>"
      ],
      "text/plain": [
       "      Test true y         Pred\n",
       "0         1252.40  1284.149214\n",
       "1         1525.30  1456.959751\n",
       "2         1481.59  1498.278180\n",
       "3         1410.40  1372.679436\n",
       "4         1537.50  1537.433095\n",
       "...           ...          ...\n",
       "1141      1485.86  1508.547280\n",
       "1142      1309.19  1328.744344\n",
       "1143      1471.30  1436.781678\n",
       "1144      1485.40  1554.194487\n",
       "1145      1493.10  1447.039676\n",
       "\n",
       "[1146 rows x 2 columns]"
      ]
     },
     "execution_count": 24,
     "metadata": {},
     "output_type": "execute_result"
    }
   ],
   "source": [
    "pred_df"
   ]
  },
  {
   "cell_type": "markdown",
   "id": "f0feab86",
   "metadata": {},
   "source": [
    "# Zapis zbiorów do pliku"
   ]
  },
  {
   "cell_type": "code",
   "execution_count": 25,
   "id": "4a6cdbf9",
   "metadata": {},
   "outputs": [],
   "source": [
    "import os\n",
    "directory_path = 'D:/PhD/ML/SVR/U'\n",
    "if not os.path.exists(directory_path):\n",
    "    os.makedirs(directory_path)\n",
    "# train_df.to_csv(os.path.join(directory_path, 'train_set_sigmoid_U.csv'), sep=';', encoding='utf-8')\n",
    "# pred_df.to_csv(os.path.join(directory_path, 'test_set_sigmoid_U.csv'), sep=';', encoding='utf-8')    "
   ]
  },
  {
   "cell_type": "markdown",
   "id": "ccdae312",
   "metadata": {},
   "source": [
    "# Licz dla konkretnej cieczy jonowej"
   ]
  },
  {
   "cell_type": "code",
   "execution_count": 28,
   "id": "779ae778",
   "metadata": {},
   "outputs": [],
   "source": [
    "def predictions3(MC,MA,SYM,P,T):\n",
    "    res = []\n",
    "    for j in T:\n",
    "        for i in P:\n",
    "            new_geom = [[MC,MA,SYM,i,j]]\n",
    "            new_geom = scaler.transform(new_geom)\n",
    "            res.append(svr_sigmoid.predict(new_geom))\n",
    "            #print(model.predict(new_geom))\n",
    "    return res"
   ]
  },
  {
   "cell_type": "code",
   "execution_count": 32,
   "id": "40ef6a53",
   "metadata": {},
   "outputs": [],
   "source": [
    "nazwa = 'C4Py_NTF2_1'\n",
    "Mcat = 136.214\n",
    "Man = 280.146\n",
    "\n",
    "P = [0.101,15.2,30.39,44.68,56.77,60.79,75.99,91.18,101.32]\n",
    "T = [293.15,298.15,303.15,308.15,313.15,318.15,323.15]\n",
    "result = predictions3(Mcat,Man,0,P,T);"
   ]
  },
  {
   "cell_type": "code",
   "execution_count": 33,
   "id": "a0159114",
   "metadata": {},
   "outputs": [
    {
     "name": "stdout",
     "output_type": "stream",
     "text": [
      "1314.472292024451\n",
      "1339.070462946157\n",
      "1366.818719149341\n",
      "1395.7265569375486\n",
      "1422.0471019215152\n",
      "1431.099846260558\n",
      "1466.222081427893\n",
      "1501.9309181132633\n",
      "1525.6576307442695\n",
      "1301.8638182347677\n",
      "1327.2858388014843\n",
      "1356.1005941645221\n",
      "1386.1648711692035\n",
      "1413.5100813470256\n",
      "1422.9020842443012\n",
      "1459.2632343563153\n",
      "1496.1062223013569\n",
      "1520.519292249883\n",
      "1289.5302179518185\n",
      "1315.7646102976348\n",
      "1345.6244440383198\n",
      "1376.8022372076716\n",
      "1405.1139589165298\n",
      "1414.8218383222895\n",
      "1452.3201334910236\n",
      "1490.1813416066193\n",
      "1515.197631182922\n",
      "1277.6477048817592\n",
      "1304.6595276335474\n",
      "1335.5074192943646\n",
      "1367.713561032554\n",
      "1396.894773420772\n",
      "1406.882161948326\n",
      "1445.3681652779183\n",
      "1484.0881460482776\n",
      "1509.5994790619138\n",
      "1266.4037250613892\n",
      "1294.1339793520194\n",
      "1325.873099280921\n",
      "1358.974661244963\n",
      "1388.8851405611056\n",
      "1399.1014695868682\n",
      "1438.3750408465933\n",
      "1477.7513862400483\n",
      "1503.6274866175957\n",
      "1255.979520350847\n",
      "1284.3468210052527\n",
      "1316.8404707127675\n",
      "1350.6566591399442\n",
      "1381.1139238646856\n",
      "1391.4950328383018\n",
      "1431.3092642950492\n",
      "1471.1036446394678\n",
      "1497.1984732637775\n",
      "1246.5296331675484\n",
      "1275.4332499230181\n",
      "1308.509432157965\n",
      "1342.8184129376823\n",
      "1373.6055946060824\n",
      "1384.0767073694042\n",
      "1424.1504455546756\n",
      "1464.1023687487461\n",
      "1490.2630334467672\n"
     ]
    }
   ],
   "source": [
    "res_flat = np.array(result).flatten()  # przekształcenie do jednowymiarowej tablicy numpy\n",
    "res_numerical = [val.item() for val in res_flat]  # wyodrębnienie wartości liczbowych\n",
    "for i in res_numerical:\n",
    "    print(i)"
   ]
  },
  {
   "cell_type": "code",
   "execution_count": 34,
   "id": "1b2960cd",
   "metadata": {},
   "outputs": [],
   "source": [
    "import os\n",
    "directory_path = 'D:/PhD/ML/SVR/U/'\n",
    "directory_path + nazwa \n",
    "tablica_danych = np.array(res_numerical).reshape(len(T), len(P))\n",
    "dane = pd.DataFrame(tablica_danych)\n",
    "dane = dane.T\n",
    "dane.to_excel(directory_path+nazwa+'_U_DATA.xlsx', index=False)"
   ]
  },
  {
   "cell_type": "code",
   "execution_count": 31,
   "id": "2b542c10",
   "metadata": {},
   "outputs": [
    {
     "data": {
      "text/plain": [
       "'D:/PhD/ML/SVR/U/C4C1Pyr_NTF2_3M'"
      ]
     },
     "execution_count": 31,
     "metadata": {},
     "output_type": "execute_result"
    }
   ],
   "source": []
  },
  {
   "cell_type": "code",
   "execution_count": null,
   "id": "b15786c7",
   "metadata": {},
   "outputs": [],
   "source": []
  }
 ],
 "metadata": {
  "kernelspec": {
   "display_name": "Python 3 (ipykernel)",
   "language": "python",
   "name": "python3"
  },
  "language_info": {
   "codemirror_mode": {
    "name": "ipython",
    "version": 3
   },
   "file_extension": ".py",
   "mimetype": "text/x-python",
   "name": "python",
   "nbconvert_exporter": "python",
   "pygments_lexer": "ipython3",
   "version": "3.9.18"
  }
 },
 "nbformat": 4,
 "nbformat_minor": 5
}
