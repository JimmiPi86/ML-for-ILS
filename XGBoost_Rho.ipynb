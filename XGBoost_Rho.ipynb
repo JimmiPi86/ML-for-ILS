{
 "cells": [
  {
   "cell_type": "code",
   "execution_count": 1,
   "id": "45508e0e",
   "metadata": {},
   "outputs": [],
   "source": [
    "#import libraries\n",
    "import numpy as np\n",
    "import pandas as pd\n",
    "import seaborn as sns\n",
    "from sklearn.model_selection import train_test_split\n",
    "from sklearn.preprocessing import StandardScaler\n",
    "from sklearn.metrics import mean_squared_error\n",
    "import xgboost as xgb\n",
    "from sklearn.metrics import r2_score\n",
    "from sklearn.model_selection import cross_val_score"
   ]
  },
  {
   "cell_type": "code",
   "execution_count": 2,
   "id": "c182b0d4",
   "metadata": {},
   "outputs": [],
   "source": [
    "df = pd.read_csv('merged_data1.csv',encoding = 'utf8',sep=';')\n",
    "X = df[['M_C', 'M_A', 'IS_SYM', 'P', 'T']].values\n",
    "y = df[['Rho']].values"
   ]
  },
  {
   "cell_type": "code",
   "execution_count": 3,
   "id": "2dd09a02",
   "metadata": {},
   "outputs": [
    {
     "name": "stdout",
     "output_type": "stream",
     "text": [
      "(1912, 5)\n",
      "(1912, 1)\n",
      "Test shapes\n",
      "(1275, 5)\n",
      "(1275, 1)\n"
     ]
    }
   ],
   "source": [
    "'''Przygotowanie danych - podzielenie danych na zbiór trenujacy i testowy'''\n",
    "\n",
    "X_train, X_test, y_train, y_test = train_test_split(\n",
    "X,y,test_size = 0.4, random_state = 42)\n",
    "\n",
    "print(X_train.shape)\n",
    "print(y_train.shape)\n",
    "print('Test shapes')\n",
    "print(X_test.shape)\n",
    "print(y_test.shape)"
   ]
  },
  {
   "cell_type": "code",
   "execution_count": 4,
   "id": "5261be0f",
   "metadata": {},
   "outputs": [],
   "source": [
    "# Skalowanie cech dla lepszej wydajności modelu\n",
    "scaler = StandardScaler()\n",
    "X_train = scaler.fit_transform(X_train)\n",
    "X_test = scaler.transform(X_test)"
   ]
  },
  {
   "cell_type": "code",
   "execution_count": 5,
   "id": "25ef5a20",
   "metadata": {},
   "outputs": [],
   "source": [
    "y_train = y_train.ravel()\n",
    "y_test = y_test.ravel()"
   ]
  },
  {
   "cell_type": "code",
   "execution_count": 6,
   "id": "d5af6142",
   "metadata": {},
   "outputs": [],
   "source": [
    "dtrain = xgb.DMatrix(X_train, label=y_train)\n",
    "dtest = xgb.DMatrix(X_test, label=y_test)"
   ]
  },
  {
   "cell_type": "code",
   "execution_count": 7,
   "id": "4dd0c23c",
   "metadata": {},
   "outputs": [],
   "source": [
    "params = {\n",
    "    'objective': 'reg:squarederror',  # Typ zadania: regresja\n",
    "    'max_depth': 4,                  # Maksymalna głębokość drzewa\n",
    "    'learning_rate': 0.1,\n",
    "    #'num_boost_rounds': 100,# Współczynnik uczeni             # Liczba drzew w modelu\n",
    "    'random_state': 42               # Ziarno losowości dla reprodukowalności wyników\n",
    "}"
   ]
  },
  {
   "cell_type": "code",
   "execution_count": 8,
   "id": "29d829af",
   "metadata": {},
   "outputs": [],
   "source": [
    "xgb_model = xgb.train(params, dtrain, num_boost_round=300)"
   ]
  },
  {
   "cell_type": "code",
   "execution_count": 9,
   "id": "3c566eaf",
   "metadata": {},
   "outputs": [],
   "source": [
    "y_test_xgb = xgb_model.predict(dtest)\n",
    "y_train_xgb = xgb_model.predict(dtrain)"
   ]
  },
  {
   "cell_type": "code",
   "execution_count": 10,
   "id": "b9d16beb",
   "metadata": {},
   "outputs": [
    {
     "name": "stdout",
     "output_type": "stream",
     "text": [
      "Współczynnik determinacji R^2: 0.9989029306452639\n",
      "Błąd średniokwadratowy MSE: 20.962929387306527\n"
     ]
    }
   ],
   "source": [
    "### Metryki dla zbioru testowego\n",
    "r2 = r2_score(y_test, y_test_xgb)\n",
    "print(f\"Współczynnik determinacji R^2: {r2}\")\n",
    "mse = mean_squared_error(y_test, y_test_xgb)\n",
    "print(f\"Błąd średniokwadratowy MSE: {mse}\")"
   ]
  },
  {
   "cell_type": "code",
   "execution_count": 11,
   "id": "ced68d4a",
   "metadata": {},
   "outputs": [
    {
     "name": "stdout",
     "output_type": "stream",
     "text": [
      "Współczynnik determinacji R^2: 0.9994617860025172\n",
      "Błąd średniokwadratowy MSE: 10.56367461375687\n"
     ]
    }
   ],
   "source": [
    "###MEtryki dla zbioru treningowego\n",
    "r2_train = r2_score(y_train, y_train_xgb)\n",
    "print(f\"Współczynnik determinacji R^2: {r2_train}\")\n",
    "mse_train = mean_squared_error(y_train, y_train_xgb)\n",
    "print(f\"Błąd średniokwadratowy MSE: {mse_train}\")"
   ]
  },
  {
   "cell_type": "code",
   "execution_count": 12,
   "id": "85ec191b",
   "metadata": {},
   "outputs": [
    {
     "name": "stdout",
     "output_type": "stream",
     "text": [
      "Średni R^2 po walidacji krzyżowej: 0.9958101100805241\n"
     ]
    }
   ],
   "source": [
    "# Przeprowadź walidację krzyżową z 25 foldami i oblicz R^2 jakość modelu\n",
    "cv_scores = cross_val_score(xgb.XGBRegressor(**params), X_train, y_train, cv=25, scoring='r2')\n",
    "# Oblicz średnią wartość R^2 po wszystkich foldach\n",
    "mean_r2 = cv_scores.mean()\n",
    "print(\"Średni R^2 po walidacji krzyżowej:\", mean_r2)"
   ]
  },
  {
   "cell_type": "code",
   "execution_count": 13,
   "id": "cec619ec",
   "metadata": {},
   "outputs": [
    {
     "name": "stdout",
     "output_type": "stream",
     "text": [
      "Średni R^2 po walidacji krzyżowej: 0.9948277948641484\n"
     ]
    }
   ],
   "source": [
    "cv_scores = cross_val_score(xgb.XGBRegressor(**params), X_test, y_test, cv=25, scoring='r2')\n",
    "# Oblicz średnią wartość R^2 po wszystkich foldach\n",
    "mean_r2 = cv_scores.mean()\n",
    "print(\"Średni R^2 po walidacji krzyżowej:\", mean_r2)"
   ]
  },
  {
   "cell_type": "code",
   "execution_count": 14,
   "id": "cc32fcb8",
   "metadata": {},
   "outputs": [],
   "source": [
    "test_predictions_xgb = pd.Series(y_test_xgb.reshape(1275,))\n",
    "pred_df = pd.DataFrame(y_test,columns = ['Test TRUE Y'])\n",
    "pred_df = pd.concat([pred_df,test_predictions_xgb],axis = 1)\n",
    "pred_df.columns = ['Test true y', 'Pred']"
   ]
  },
  {
   "cell_type": "code",
   "execution_count": 15,
   "id": "93d11132",
   "metadata": {},
   "outputs": [],
   "source": [
    "train_predictions_xgb = pd.Series(y_train_xgb.reshape(X_train.shape[0],))\n",
    "train_df = pd.DataFrame(y_train,columns = ['Test TRUE Y'])\n",
    "train_df = pd.concat([train_df,train_predictions_xgb],axis = 1)\n",
    "train_df.columns = ['Test true y', 'Pred']"
   ]
  },
  {
   "cell_type": "code",
   "execution_count": 16,
   "id": "6dff67a4",
   "metadata": {},
   "outputs": [
    {
     "data": {
      "text/plain": [
       "<Axes: xlabel='Test true y', ylabel='Pred'>"
      ]
     },
     "execution_count": 16,
     "metadata": {},
     "output_type": "execute_result"
    },
    {
     "data": {
      "image/png": "[encoded data removed]",
      "text/plain": [
       "<Figure size 432x288 with 1 Axes>"
      ]
     },
     "metadata": {
      "needs_background": "light"
     },
     "output_type": "display_data"
    }
   ],
   "source": [
    "sns.scatterplot(x = 'Test true y', y = 'Pred', data = train_df)\n",
    "sns.scatterplot(x = 'Test true y', y = 'Pred', data = pred_df, alpha = 0.2)"
   ]
  },
  {
   "cell_type": "code",
   "execution_count": 17,
   "id": "1b83ad8c",
   "metadata": {},
   "outputs": [
    {
     "data": {
      "text/html": [
       "<div>\n",
       "<style scoped>\n",
       "    .dataframe tbody tr th:only-of-type {\n",
       "        vertical-align: middle;\n",
       "    }\n",
       "\n",
       "    .dataframe tbody tr th {\n",
       "        vertical-align: top;\n",
       "    }\n",
       "\n",
       "    .dataframe thead th {\n",
       "        text-align: right;\n",
       "    }\n",
       "</style>\n",
       "<table border=\"1\" class=\"dataframe\">\n",
       "  <thead>\n",
       "    <tr style=\"text-align: right;\">\n",
       "      <th></th>\n",
       "      <th>Test true y</th>\n",
       "      <th>Pred</th>\n",
       "    </tr>\n",
       "  </thead>\n",
       "  <tbody>\n",
       "    <tr>\n",
       "      <th>0</th>\n",
       "      <td>1484.17</td>\n",
       "      <td>1484.543457</td>\n",
       "    </tr>\n",
       "    <tr>\n",
       "      <th>1</th>\n",
       "      <td>1251.80</td>\n",
       "      <td>1252.745972</td>\n",
       "    </tr>\n",
       "    <tr>\n",
       "      <th>2</th>\n",
       "      <td>1414.30</td>\n",
       "      <td>1421.242188</td>\n",
       "    </tr>\n",
       "    <tr>\n",
       "      <th>3</th>\n",
       "      <td>1434.54</td>\n",
       "      <td>1455.011475</td>\n",
       "    </tr>\n",
       "    <tr>\n",
       "      <th>4</th>\n",
       "      <td>1453.62</td>\n",
       "      <td>1454.238892</td>\n",
       "    </tr>\n",
       "    <tr>\n",
       "      <th>...</th>\n",
       "      <td>...</td>\n",
       "      <td>...</td>\n",
       "    </tr>\n",
       "    <tr>\n",
       "      <th>1907</th>\n",
       "      <td>1325.50</td>\n",
       "      <td>1333.724121</td>\n",
       "    </tr>\n",
       "    <tr>\n",
       "      <th>1908</th>\n",
       "      <td>1023.86</td>\n",
       "      <td>1023.920837</td>\n",
       "    </tr>\n",
       "    <tr>\n",
       "      <th>1909</th>\n",
       "      <td>1214.92</td>\n",
       "      <td>1211.991455</td>\n",
       "    </tr>\n",
       "    <tr>\n",
       "      <th>1910</th>\n",
       "      <td>1513.35</td>\n",
       "      <td>1511.578979</td>\n",
       "    </tr>\n",
       "    <tr>\n",
       "      <th>1911</th>\n",
       "      <td>1222.29</td>\n",
       "      <td>1223.768433</td>\n",
       "    </tr>\n",
       "  </tbody>\n",
       "</table>\n",
       "<p>1912 rows × 2 columns</p>\n",
       "</div>"
      ],
      "text/plain": [
       "      Test true y         Pred\n",
       "0         1484.17  1484.543457\n",
       "1         1251.80  1252.745972\n",
       "2         1414.30  1421.242188\n",
       "3         1434.54  1455.011475\n",
       "4         1453.62  1454.238892\n",
       "...           ...          ...\n",
       "1907      1325.50  1333.724121\n",
       "1908      1023.86  1023.920837\n",
       "1909      1214.92  1211.991455\n",
       "1910      1513.35  1511.578979\n",
       "1911      1222.29  1223.768433\n",
       "\n",
       "[1912 rows x 2 columns]"
      ]
     },
     "execution_count": 17,
     "metadata": {},
     "output_type": "execute_result"
    }
   ],
   "source": [
    "train_df"
   ]
  },
  {
   "cell_type": "code",
   "execution_count": 18,
   "id": "fa31ae72",
   "metadata": {},
   "outputs": [
    {
     "data": {
      "text/html": [
       "<div>\n",
       "<style scoped>\n",
       "    .dataframe tbody tr th:only-of-type {\n",
       "        vertical-align: middle;\n",
       "    }\n",
       "\n",
       "    .dataframe tbody tr th {\n",
       "        vertical-align: top;\n",
       "    }\n",
       "\n",
       "    .dataframe thead th {\n",
       "        text-align: right;\n",
       "    }\n",
       "</style>\n",
       "<table border=\"1\" class=\"dataframe\">\n",
       "  <thead>\n",
       "    <tr style=\"text-align: right;\">\n",
       "      <th></th>\n",
       "      <th>Test true y</th>\n",
       "      <th>Pred</th>\n",
       "    </tr>\n",
       "  </thead>\n",
       "  <tbody>\n",
       "    <tr>\n",
       "      <th>0</th>\n",
       "      <td>1310.90</td>\n",
       "      <td>1316.249634</td>\n",
       "    </tr>\n",
       "    <tr>\n",
       "      <th>1</th>\n",
       "      <td>1266.10</td>\n",
       "      <td>1262.928833</td>\n",
       "    </tr>\n",
       "    <tr>\n",
       "      <th>2</th>\n",
       "      <td>1492.27</td>\n",
       "      <td>1492.679688</td>\n",
       "    </tr>\n",
       "    <tr>\n",
       "      <th>3</th>\n",
       "      <td>1190.69</td>\n",
       "      <td>1192.402344</td>\n",
       "    </tr>\n",
       "    <tr>\n",
       "      <th>4</th>\n",
       "      <td>1061.93</td>\n",
       "      <td>1063.460327</td>\n",
       "    </tr>\n",
       "    <tr>\n",
       "      <th>...</th>\n",
       "      <td>...</td>\n",
       "      <td>...</td>\n",
       "    </tr>\n",
       "    <tr>\n",
       "      <th>1270</th>\n",
       "      <td>1379.05</td>\n",
       "      <td>1382.843018</td>\n",
       "    </tr>\n",
       "    <tr>\n",
       "      <th>1271</th>\n",
       "      <td>1057.40</td>\n",
       "      <td>1056.455566</td>\n",
       "    </tr>\n",
       "    <tr>\n",
       "      <th>1272</th>\n",
       "      <td>1421.72</td>\n",
       "      <td>1419.865112</td>\n",
       "    </tr>\n",
       "    <tr>\n",
       "      <th>1273</th>\n",
       "      <td>1317.90</td>\n",
       "      <td>1317.821899</td>\n",
       "    </tr>\n",
       "    <tr>\n",
       "      <th>1274</th>\n",
       "      <td>1184.75</td>\n",
       "      <td>1189.738525</td>\n",
       "    </tr>\n",
       "  </tbody>\n",
       "</table>\n",
       "<p>1275 rows × 2 columns</p>\n",
       "</div>"
      ],
      "text/plain": [
       "      Test true y         Pred\n",
       "0         1310.90  1316.249634\n",
       "1         1266.10  1262.928833\n",
       "2         1492.27  1492.679688\n",
       "3         1190.69  1192.402344\n",
       "4         1061.93  1063.460327\n",
       "...           ...          ...\n",
       "1270      1379.05  1382.843018\n",
       "1271      1057.40  1056.455566\n",
       "1272      1421.72  1419.865112\n",
       "1273      1317.90  1317.821899\n",
       "1274      1184.75  1189.738525\n",
       "\n",
       "[1275 rows x 2 columns]"
      ]
     },
     "execution_count": 18,
     "metadata": {},
     "output_type": "execute_result"
    }
   ],
   "source": [
    "pred_df"
   ]
  },
  {
   "cell_type": "code",
   "execution_count": 23,
   "id": "7ac08307",
   "metadata": {},
   "outputs": [],
   "source": [
    "import os\n",
    "directory_path = 'D:/PhD/ML/XBOOST/RHO/'\n",
    "if not os.path.exists(directory_path):\n",
    "    os.makedirs(directory_path)\n",
    "# train_df.to_csv(os.path.join(directory_path, 'train_set_XB.csv'), sep=';', encoding='utf-8')\n",
    "# pred_df.to_csv(os.path.join(directory_path, 'test_set_XB.csv'), sep=';', encoding='utf-8') "
   ]
  },
  {
   "cell_type": "code",
   "execution_count": 19,
   "id": "58cdd10a",
   "metadata": {},
   "outputs": [],
   "source": [
    "def predictions3(MC,MA,SYM,P,T):\n",
    "    res = []\n",
    "    for j in T:\n",
    "        for i in P:\n",
    "            new_geom = [[MC,MA,SYM,i,j]]\n",
    "            new_geom = scaler.transform(new_geom)\n",
    "            new_geom_dmatrix = xgb.DMatrix(new_geom)  # Konwersja na DMatrix\n",
    "            res.append(xgb_model.predict(new_geom_dmatrix))\n",
    "            #print(model.predict(new_geom))\n",
    "    return res"
   ]
  },
  {
   "cell_type": "code",
   "execution_count": 38,
   "id": "f5db3bc6",
   "metadata": {},
   "outputs": [],
   "source": [
    "nazwa = 'C4Mim_C1SO4'\n",
    "Mcat = 139.29\n",
    "Man = 111.097\n",
    "\n",
    "P = [0.1,2.5,5,10,15,20,25,30,35]\n",
    "T = [283.15,285.65,288.15,290.65,293.15,295.65,298.15,300.65,303.15,305.65,308.15,310.65,313.15,315.65,318.15,320.65,323.15,325.65,328.15,330.65,333.15,335.65,338.15,340.65,343.15,345.65,348.15,350.65,353.15]\n",
    "result = predictions3(Mcat,Man,0,P,T);"
   ]
  },
  {
   "cell_type": "code",
   "execution_count": 39,
   "id": "4c9a9257",
   "metadata": {},
   "outputs": [],
   "source": [
    "res_flat = np.array(result).flatten()  # przekształcenie do jednowymiarowej tablicy numpy\n",
    "res_numerical = [val.item() for val in res_flat]  # wyodrębnienie wartości liczbowych\n",
    "# for i in res_numerical:\n",
    "#     print(i);"
   ]
  },
  {
   "cell_type": "code",
   "execution_count": 40,
   "id": "7dc8b947",
   "metadata": {},
   "outputs": [],
   "source": [
    "directory_path = 'D:/PhD/ML/XBOOST/Rho/'\n",
    "if not os.path.exists(directory_path):\n",
    "    os.makedirs(directory_path)\n",
    "directory_path + nazwa \n",
    "tablica_danych = np.array(res_numerical).reshape(len(T), len(P))\n",
    "if not os.path.exists(directory_path):\n",
    "    os.makedirs(directory_path)\n",
    "dane = pd.DataFrame(tablica_danych)\n",
    "dane = dane.T\n",
    "dane.to_excel(directory_path+nazwa+'_Rho_DATA_XB.xlsx', index=False)\n",
    "raw = pd.DataFrame(res_numerical) ###Zapis wektora danych w postaci kolumny surowych danych\n",
    "raw.to_excel(directory_path+nazwa+'_Rho_RAW_XB.xlsx', index=False)"
   ]
  },
  {
   "cell_type": "code",
   "execution_count": 34,
   "id": "245e004a",
   "metadata": {},
   "outputs": [
    {
     "name": "stdout",
     "output_type": "stream",
     "text": [
      "Pliki zostały zapisane poprawnie.\n"
     ]
    }
   ],
   "source": [
    "try:\n",
    "    dane.to_excel(os.path.join(directory_path, nazwa+'_Rho_DATA_GB.xlsx'), index=False)\n",
    "    raw = pd.DataFrame(res_numerical)\n",
    "    raw.to_excel(os.path.join(directory_path, nazwa+'_Rho_RAW_GB.xlsx'), index=False)\n",
    "    print(\"Pliki zostały zapisane poprawnie.\")\n",
    "except Exception as e:\n",
    "    print(\"Wystąpił błąd podczas zapisywania plików:\", e)"
   ]
  },
  {
   "cell_type": "code",
   "execution_count": null,
   "id": "8e127296",
   "metadata": {},
   "outputs": [],
   "source": []
  }
 ],
 "metadata": {
  "kernelspec": {
   "display_name": "Python 3 (ipykernel)",
   "language": "python",
   "name": "python3"
  },
  "language_info": {
   "codemirror_mode": {
    "name": "ipython",
    "version": 3
   },
   "file_extension": ".py",
   "mimetype": "text/x-python",
   "name": "python",
   "nbconvert_exporter": "python",
   "pygments_lexer": "ipython3",
   "version": "3.9.18"
  }
 },
 "nbformat": 4,
 "nbformat_minor": 5
}
