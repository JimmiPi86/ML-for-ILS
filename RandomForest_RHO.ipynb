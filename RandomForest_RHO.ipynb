{
 "cells": [
  {
   "cell_type": "code",
   "execution_count": 1,
   "id": "005e3271",
   "metadata": {},
   "outputs": [],
   "source": [
    "#import libraries\n",
    "import numpy as np\n",
    "import pandas as pd\n",
    "import seaborn as sns\n",
    "from sklearn.model_selection import train_test_split\n",
    "from sklearn.preprocessing import StandardScaler\n",
    "from sklearn.metrics import mean_squared_error\n",
    "from sklearn.ensemble import RandomForestRegressor\n",
    "from sklearn.metrics import r2_score"
   ]
  },
  {
   "cell_type": "code",
   "execution_count": 2,
   "id": "0c2bc282",
   "metadata": {},
   "outputs": [],
   "source": [
    "df = pd.read_csv('merged_data1.csv',encoding = 'utf8',sep=';')\n",
    "X = df[['M_C', 'M_A', 'IS_SYM', 'P', 'T']].values\n",
    "y = df[['Rho']].values"
   ]
  },
  {
   "cell_type": "code",
   "execution_count": 3,
   "id": "d030d2b1",
   "metadata": {},
   "outputs": [
    {
     "name": "stdout",
     "output_type": "stream",
     "text": [
      "(1912, 5)\n",
      "(1912, 1)\n",
      "Test shapes\n",
      "(1275, 5)\n",
      "(1275, 1)\n"
     ]
    }
   ],
   "source": [
    "'''Przygotowanie danych - podzielenie danych na zbiór trenujacy i testowy'''\n",
    "\n",
    "X_train, X_test, y_train, y_test = train_test_split(\n",
    "X,y,test_size = 0.4, random_state = 42)\n",
    "\n",
    "print(X_train.shape)\n",
    "print(y_train.shape)\n",
    "print('Test shapes')\n",
    "print(X_test.shape)\n",
    "print(y_test.shape)"
   ]
  },
  {
   "cell_type": "code",
   "execution_count": 4,
   "id": "7a058732",
   "metadata": {},
   "outputs": [],
   "source": [
    "# Skalowanie cech dla lepszej wydajności modelu lasu losowego\n",
    "scaler = StandardScaler()\n",
    "X_train = scaler.fit_transform(X_train)\n",
    "X_test = scaler.transform(X_test)"
   ]
  },
  {
   "cell_type": "code",
   "execution_count": 5,
   "id": "783d1af2",
   "metadata": {},
   "outputs": [],
   "source": [
    "y_train = y_train.ravel()\n",
    "y_test = y_test.ravel()"
   ]
  },
  {
   "cell_type": "code",
   "execution_count": 6,
   "id": "383de873",
   "metadata": {},
   "outputs": [
    {
     "data": {
      "text/plain": [
       "RandomForestRegressor(n_estimators=10, random_state=42)"
      ]
     },
     "execution_count": 6,
     "metadata": {},
     "output_type": "execute_result"
    }
   ],
   "source": [
    "# Tworzenie i trenowanie modelu Lasu Losowego\n",
    "random_forest_model = RandomForestRegressor(n_estimators=10, random_state=42)\n",
    "random_forest_model.fit(X_train, y_train)"
   ]
  },
  {
   "cell_type": "code",
   "execution_count": 7,
   "id": "1ddac0a9",
   "metadata": {},
   "outputs": [],
   "source": [
    "y_test_rf = random_forest_model.predict(X_test)"
   ]
  },
  {
   "cell_type": "code",
   "execution_count": 8,
   "id": "fd4fb0ef",
   "metadata": {},
   "outputs": [
    {
     "data": {
      "text/plain": [
       "array([1308.22 , 1267.21 , 1489.783, ..., 1417.862, 1314.151, 1184.462])"
      ]
     },
     "execution_count": 8,
     "metadata": {},
     "output_type": "execute_result"
    }
   ],
   "source": [
    "y_test_rf"
   ]
  },
  {
   "cell_type": "code",
   "execution_count": 9,
   "id": "271b974c",
   "metadata": {},
   "outputs": [
    {
     "name": "stdout",
     "output_type": "stream",
     "text": [
      "Współczynnik determinacji R^2: 0.9978157511132048\n",
      "Błąd średniokwadratowy MSE: 41.73688288759697\n"
     ]
    }
   ],
   "source": [
    "r2 = r2_score(y_test, y_test_rf)\n",
    "print(f\"Współczynnik determinacji R^2: {r2}\")\n",
    "mse = mean_squared_error(y_test, y_test_rf)\n",
    "print(f\"Błąd średniokwadratowy MSE: {mse}\")"
   ]
  },
  {
   "cell_type": "code",
   "execution_count": 10,
   "id": "dc0b2f3f",
   "metadata": {},
   "outputs": [
    {
     "name": "stdout",
     "output_type": "stream",
     "text": [
      "Współczynnik determinacji R^2: 0.9995735834578123\n",
      "Błąd średniokwadratowy MSE: 8.369395115441385\n"
     ]
    }
   ],
   "source": [
    "###Metryki błędu dla zbioru treningowego\n",
    "y_train_rf =random_forest_model.predict(X_train)\n",
    "r2_train = r2_score(y_train, y_train_rf)\n",
    "print(f\"Współczynnik determinacji R^2: {r2_train}\")\n",
    "mse_train = mean_squared_error(y_train, y_train_rf)\n",
    "print(f\"Błąd średniokwadratowy MSE: {mse_train}\")"
   ]
  },
  {
   "cell_type": "markdown",
   "id": "17a25621",
   "metadata": {},
   "source": [
    "# Walidacja krzyżowa"
   ]
  },
  {
   "cell_type": "code",
   "execution_count": 11,
   "id": "05906576",
   "metadata": {},
   "outputs": [],
   "source": [
    "from sklearn.model_selection import cross_val_score"
   ]
  },
  {
   "cell_type": "code",
   "execution_count": 15,
   "id": "ef85b6c1",
   "metadata": {},
   "outputs": [],
   "source": [
    "# Przeprowadź walidację krzyżową z 5 foldami i oblicz R^2 jakość modelu\n",
    "cv_scores = cross_val_score(random_forest_model, X_test, y_test, cv=25, scoring='r2')"
   ]
  },
  {
   "cell_type": "code",
   "execution_count": 16,
   "id": "61e41f94",
   "metadata": {},
   "outputs": [],
   "source": [
    "# Oblicz średnią wartość R^2 po wszystkich foldach\n",
    "mean_r2 = cv_scores.mean()"
   ]
  },
  {
   "cell_type": "code",
   "execution_count": 17,
   "id": "6c91e8f5",
   "metadata": {},
   "outputs": [
    {
     "name": "stdout",
     "output_type": "stream",
     "text": [
      "Średni R^2 po walidacji krzyżowej: 0.9946840940090229\n"
     ]
    }
   ],
   "source": [
    "print(\"Średni R^2 po walidacji krzyżowej:\", mean_r2)"
   ]
  },
  {
   "cell_type": "markdown",
   "id": "2755c678",
   "metadata": {},
   "source": [
    "# Wykresy R2"
   ]
  },
  {
   "cell_type": "code",
   "execution_count": 15,
   "id": "f9e759f9",
   "metadata": {},
   "outputs": [],
   "source": [
    "test_predictions_rf = pd.Series(y_test_rf.reshape(1275,))\n",
    "pred_df = pd.DataFrame(y_test,columns = ['Test TRUE Y'])\n",
    "pred_df = pd.concat([pred_df,test_predictions_rf],axis = 1)\n",
    "pred_df.columns = ['Test true y', 'Pred']"
   ]
  },
  {
   "cell_type": "code",
   "execution_count": 16,
   "id": "d477b8bd",
   "metadata": {},
   "outputs": [],
   "source": [
    "train_predictions_rf = pd.Series(y_train_rf.reshape(1912,))\n",
    "train_df = pd.DataFrame(y_train,columns = ['Test TRUE Y'])\n",
    "train_df = pd.concat([train_df,train_predictions_rf],axis = 1)\n",
    "train_df.columns = ['Test true y', 'Pred']"
   ]
  },
  {
   "cell_type": "code",
   "execution_count": 17,
   "id": "a369306d",
   "metadata": {},
   "outputs": [
    {
     "data": {
      "text/plain": [
       "<Axes: xlabel='Test true y', ylabel='Pred'>"
      ]
     },
     "execution_count": 17,
     "metadata": {},
     "output_type": "execute_result"
    },
    {
     "data": {
      "image/png": "[encoded data removed]",
      "text/plain": [
       "<Figure size 432x288 with 1 Axes>"
      ]
     },
     "metadata": {
      "needs_background": "light"
     },
     "output_type": "display_data"
    }
   ],
   "source": [
    "sns.scatterplot(x = 'Test true y', y = 'Pred', data = train_df)\n",
    "sns.scatterplot(x = 'Test true y', y = 'Pred', data = pred_df, alpha = 0.2)"
   ]
  },
  {
   "cell_type": "code",
   "execution_count": 18,
   "id": "46c2f78c",
   "metadata": {},
   "outputs": [
    {
     "data": {
      "text/html": [
       "<div>\n",
       "<style scoped>\n",
       "    .dataframe tbody tr th:only-of-type {\n",
       "        vertical-align: middle;\n",
       "    }\n",
       "\n",
       "    .dataframe tbody tr th {\n",
       "        vertical-align: top;\n",
       "    }\n",
       "\n",
       "    .dataframe thead th {\n",
       "        text-align: right;\n",
       "    }\n",
       "</style>\n",
       "<table border=\"1\" class=\"dataframe\">\n",
       "  <thead>\n",
       "    <tr style=\"text-align: right;\">\n",
       "      <th></th>\n",
       "      <th>Test true y</th>\n",
       "      <th>Pred</th>\n",
       "    </tr>\n",
       "  </thead>\n",
       "  <tbody>\n",
       "    <tr>\n",
       "      <th>0</th>\n",
       "      <td>1484.17</td>\n",
       "      <td>1483.6880</td>\n",
       "    </tr>\n",
       "    <tr>\n",
       "      <th>1</th>\n",
       "      <td>1251.80</td>\n",
       "      <td>1249.6600</td>\n",
       "    </tr>\n",
       "    <tr>\n",
       "      <th>2</th>\n",
       "      <td>1414.30</td>\n",
       "      <td>1417.4440</td>\n",
       "    </tr>\n",
       "    <tr>\n",
       "      <th>3</th>\n",
       "      <td>1434.54</td>\n",
       "      <td>1450.6330</td>\n",
       "    </tr>\n",
       "    <tr>\n",
       "      <th>4</th>\n",
       "      <td>1453.62</td>\n",
       "      <td>1453.9994</td>\n",
       "    </tr>\n",
       "    <tr>\n",
       "      <th>...</th>\n",
       "      <td>...</td>\n",
       "      <td>...</td>\n",
       "    </tr>\n",
       "    <tr>\n",
       "      <th>1907</th>\n",
       "      <td>1325.50</td>\n",
       "      <td>1324.5600</td>\n",
       "    </tr>\n",
       "    <tr>\n",
       "      <th>1908</th>\n",
       "      <td>1023.86</td>\n",
       "      <td>1026.0210</td>\n",
       "    </tr>\n",
       "    <tr>\n",
       "      <th>1909</th>\n",
       "      <td>1214.92</td>\n",
       "      <td>1215.2430</td>\n",
       "    </tr>\n",
       "    <tr>\n",
       "      <th>1910</th>\n",
       "      <td>1513.35</td>\n",
       "      <td>1512.4160</td>\n",
       "    </tr>\n",
       "    <tr>\n",
       "      <th>1911</th>\n",
       "      <td>1222.29</td>\n",
       "      <td>1223.1780</td>\n",
       "    </tr>\n",
       "  </tbody>\n",
       "</table>\n",
       "<p>1912 rows × 2 columns</p>\n",
       "</div>"
      ],
      "text/plain": [
       "      Test true y       Pred\n",
       "0         1484.17  1483.6880\n",
       "1         1251.80  1249.6600\n",
       "2         1414.30  1417.4440\n",
       "3         1434.54  1450.6330\n",
       "4         1453.62  1453.9994\n",
       "...           ...        ...\n",
       "1907      1325.50  1324.5600\n",
       "1908      1023.86  1026.0210\n",
       "1909      1214.92  1215.2430\n",
       "1910      1513.35  1512.4160\n",
       "1911      1222.29  1223.1780\n",
       "\n",
       "[1912 rows x 2 columns]"
      ]
     },
     "execution_count": 18,
     "metadata": {},
     "output_type": "execute_result"
    }
   ],
   "source": [
    "train_df"
   ]
  },
  {
   "cell_type": "code",
   "execution_count": 19,
   "id": "6c92c06d",
   "metadata": {},
   "outputs": [
    {
     "data": {
      "text/html": [
       "<div>\n",
       "<style scoped>\n",
       "    .dataframe tbody tr th:only-of-type {\n",
       "        vertical-align: middle;\n",
       "    }\n",
       "\n",
       "    .dataframe tbody tr th {\n",
       "        vertical-align: top;\n",
       "    }\n",
       "\n",
       "    .dataframe thead th {\n",
       "        text-align: right;\n",
       "    }\n",
       "</style>\n",
       "<table border=\"1\" class=\"dataframe\">\n",
       "  <thead>\n",
       "    <tr style=\"text-align: right;\">\n",
       "      <th></th>\n",
       "      <th>Test true y</th>\n",
       "      <th>Pred</th>\n",
       "    </tr>\n",
       "  </thead>\n",
       "  <tbody>\n",
       "    <tr>\n",
       "      <th>0</th>\n",
       "      <td>1310.90</td>\n",
       "      <td>1308.220000</td>\n",
       "    </tr>\n",
       "    <tr>\n",
       "      <th>1</th>\n",
       "      <td>1266.10</td>\n",
       "      <td>1267.210000</td>\n",
       "    </tr>\n",
       "    <tr>\n",
       "      <th>2</th>\n",
       "      <td>1492.27</td>\n",
       "      <td>1489.783000</td>\n",
       "    </tr>\n",
       "    <tr>\n",
       "      <th>3</th>\n",
       "      <td>1190.69</td>\n",
       "      <td>1192.785000</td>\n",
       "    </tr>\n",
       "    <tr>\n",
       "      <th>4</th>\n",
       "      <td>1061.93</td>\n",
       "      <td>1063.534000</td>\n",
       "    </tr>\n",
       "    <tr>\n",
       "      <th>...</th>\n",
       "      <td>...</td>\n",
       "      <td>...</td>\n",
       "    </tr>\n",
       "    <tr>\n",
       "      <th>1270</th>\n",
       "      <td>1379.05</td>\n",
       "      <td>1369.319675</td>\n",
       "    </tr>\n",
       "    <tr>\n",
       "      <th>1271</th>\n",
       "      <td>1057.40</td>\n",
       "      <td>1054.455000</td>\n",
       "    </tr>\n",
       "    <tr>\n",
       "      <th>1272</th>\n",
       "      <td>1421.72</td>\n",
       "      <td>1417.862000</td>\n",
       "    </tr>\n",
       "    <tr>\n",
       "      <th>1273</th>\n",
       "      <td>1317.90</td>\n",
       "      <td>1314.151000</td>\n",
       "    </tr>\n",
       "    <tr>\n",
       "      <th>1274</th>\n",
       "      <td>1184.75</td>\n",
       "      <td>1184.462000</td>\n",
       "    </tr>\n",
       "  </tbody>\n",
       "</table>\n",
       "<p>1275 rows × 2 columns</p>\n",
       "</div>"
      ],
      "text/plain": [
       "      Test true y         Pred\n",
       "0         1310.90  1308.220000\n",
       "1         1266.10  1267.210000\n",
       "2         1492.27  1489.783000\n",
       "3         1190.69  1192.785000\n",
       "4         1061.93  1063.534000\n",
       "...           ...          ...\n",
       "1270      1379.05  1369.319675\n",
       "1271      1057.40  1054.455000\n",
       "1272      1421.72  1417.862000\n",
       "1273      1317.90  1314.151000\n",
       "1274      1184.75  1184.462000\n",
       "\n",
       "[1275 rows x 2 columns]"
      ]
     },
     "execution_count": 19,
     "metadata": {},
     "output_type": "execute_result"
    }
   ],
   "source": [
    "pred_df"
   ]
  },
  {
   "cell_type": "markdown",
   "id": "f5700d94",
   "metadata": {},
   "source": [
    "#  Zapis zbioru testowego i treningowego"
   ]
  },
  {
   "cell_type": "code",
   "execution_count": 20,
   "id": "d52f7c90",
   "metadata": {},
   "outputs": [],
   "source": [
    "import os\n",
    "directory_path = 'D:/PhD/ML/RF/Rho'\n",
    "if not os.path.exists(directory_path):\n",
    "    os.makedirs(directory_path)\n",
    "# train_df.to_csv(os.path.join(directory_path, 'train_set_RF.csv'), sep=';', encoding='utf-8')\n",
    "# pred_df.to_csv(os.path.join(directory_path, 'test_set_RF.csv'), sep=';', encoding='utf-8') "
   ]
  },
  {
   "cell_type": "markdown",
   "id": "a5fbb7e3",
   "metadata": {},
   "source": [
    "#  Schemat obliczeń dla konkretnej cieczy jonowej"
   ]
  },
  {
   "cell_type": "code",
   "execution_count": 20,
   "id": "31b4fe4a",
   "metadata": {},
   "outputs": [],
   "source": [
    "def predictions3(MC,MA,SYM,P,T):\n",
    "    res = []\n",
    "    for j in T:\n",
    "        for i in P:\n",
    "            new_geom = [[MC,MA,SYM,i,j]]\n",
    "            new_geom = scaler.transform(new_geom)\n",
    "            res.append(random_forest_model.predict(new_geom))\n",
    "            #print(model.predict(new_geom))\n",
    "    return res"
   ]
  },
  {
   "cell_type": "code",
   "execution_count": 34,
   "id": "81411f6e",
   "metadata": {},
   "outputs": [],
   "source": [
    "nazwa = 'C4Mim_C1SO4'\n",
    "Mcat = 139.29\n",
    "Man = 111.097\n",
    "\n",
    "P = [0.1,2.5,5,10,15,20,25,30,35]\n",
    "T = [283.15,285.65,288.15,290.65,293.15,295.65,298.15,300.65,303.15,305.65,308.15,310.65,313.15,315.65,318.15,320.65,323.15,325.65,328.15,330.65,333.15,335.65,338.15,340.65,343.15,345.65,348.15,350.65,353.15]\n",
    "result = predictions3(Mcat,Man,0,P,T);"
   ]
  },
  {
   "cell_type": "code",
   "execution_count": 35,
   "id": "33ddcfdd",
   "metadata": {},
   "outputs": [],
   "source": [
    "res_flat = np.array(result).flatten()  # przekształcenie do jednowymiarowej tablicy numpy\n",
    "res_numerical = [val.item() for val in res_flat]  # wyodrębnienie wartości liczbowych\n",
    "# for i in res_numerical:\n",
    "#     print(i);"
   ]
  },
  {
   "cell_type": "code",
   "execution_count": 36,
   "id": "85ac9255",
   "metadata": {},
   "outputs": [],
   "source": [
    "import os\n",
    "directory_path = 'D:/PhD/ML/RF/Rho/'\n",
    "directory_path + nazwa\n",
    "if not os.path.exists(directory_path):\n",
    "    os.makedirs(directory_path)\n",
    "tablica_danych = np.array(res_numerical).reshape(len(T), len(P))\n",
    "dane = pd.DataFrame(tablica_danych)\n",
    "dane = dane.T\n",
    "dane.to_excel(directory_path+nazwa+'_Rho_DATA_RF.xlsx', index=False)\n",
    "raw = pd.DataFrame(res_numerical) ###Zapis wektora danych w postaci kolumny surowych danych\n",
    "raw.to_excel(directory_path+nazwa+'_Rho_RAW_RF.xlsx', index=False)"
   ]
  },
  {
   "cell_type": "code",
   "execution_count": null,
   "id": "c85dea1f",
   "metadata": {},
   "outputs": [],
   "source": []
  }
 ],
 "metadata": {
  "kernelspec": {
   "display_name": "Python 3 (ipykernel)",
   "language": "python",
   "name": "python3"
  },
  "language_info": {
   "codemirror_mode": {
    "name": "ipython",
    "version": 3
   },
   "file_extension": ".py",
   "mimetype": "text/x-python",
   "name": "python",
   "nbconvert_exporter": "python",
   "pygments_lexer": "ipython3",
   "version": "3.9.18"
  }
 },
 "nbformat": 4,
 "nbformat_minor": 5
}
