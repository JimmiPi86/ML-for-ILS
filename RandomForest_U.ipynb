{
 "cells": [
  {
   "cell_type": "code",
   "execution_count": 2,
   "id": "005e3271",
   "metadata": {},
   "outputs": [],
   "source": [
    "#import libraries\n",
    "import numpy as np\n",
    "import pandas as pd\n",
    "import seaborn as sns\n",
    "from sklearn.model_selection import train_test_split\n",
    "from sklearn.preprocessing import StandardScaler\n",
    "from sklearn.metrics import mean_squared_error\n",
    "from sklearn.ensemble import RandomForestRegressor\n",
    "from sklearn.metrics import r2_score"
   ]
  },
  {
   "cell_type": "code",
   "execution_count": 3,
   "id": "0c2bc282",
   "metadata": {},
   "outputs": [],
   "source": [
    "df = pd.read_csv('zbior_23.csv',encoding = 'utf8',sep=';')\n",
    "X = df[['M_C', 'M_A', 'SYM', 'P', 'T']].values\n",
    "y = df[['EXP U']].values"
   ]
  },
  {
   "cell_type": "code",
   "execution_count": 4,
   "id": "d030d2b1",
   "metadata": {},
   "outputs": [
    {
     "name": "stdout",
     "output_type": "stream",
     "text": [
      "(1719, 5)\n",
      "(1719, 1)\n",
      "Test shapes\n",
      "(1146, 5)\n",
      "(1146, 1)\n"
     ]
    }
   ],
   "source": [
    "'''Przygotowanie danych - podzielenie danych na zbiór trenujacy i testowy'''\n",
    "\n",
    "X_train, X_test, y_train, y_test = train_test_split(\n",
    "X,y,test_size = 0.4, random_state = 42)\n",
    "\n",
    "print(X_train.shape)\n",
    "print(y_train.shape)\n",
    "print('Test shapes')\n",
    "print(X_test.shape)\n",
    "print(y_test.shape)"
   ]
  },
  {
   "cell_type": "code",
   "execution_count": 5,
   "id": "7a058732",
   "metadata": {},
   "outputs": [],
   "source": [
    "# Skalowanie cech dla lepszej wydajności modelu lasu losowego\n",
    "scaler = StandardScaler()\n",
    "X_train = scaler.fit_transform(X_train)\n",
    "X_test = scaler.transform(X_test)"
   ]
  },
  {
   "cell_type": "code",
   "execution_count": 6,
   "id": "783d1af2",
   "metadata": {},
   "outputs": [],
   "source": [
    "y_train = y_train.ravel()\n",
    "y_test = y_test.ravel()"
   ]
  },
  {
   "cell_type": "code",
   "execution_count": 7,
   "id": "383de873",
   "metadata": {},
   "outputs": [
    {
     "data": {
      "text/plain": [
       "RandomForestRegressor(n_estimators=10, random_state=42)"
      ]
     },
     "execution_count": 7,
     "metadata": {},
     "output_type": "execute_result"
    }
   ],
   "source": [
    "# Tworzenie i trenowanie modelu Lasu Losowego\n",
    "random_forest_model = RandomForestRegressor(n_estimators=10, random_state=42)\n",
    "random_forest_model.fit(X_train, y_train)"
   ]
  },
  {
   "cell_type": "code",
   "execution_count": 8,
   "id": "1ddac0a9",
   "metadata": {},
   "outputs": [],
   "source": [
    "y_test_rf = random_forest_model.predict(X_test)"
   ]
  },
  {
   "cell_type": "code",
   "execution_count": 9,
   "id": "fd4fb0ef",
   "metadata": {},
   "outputs": [
    {
     "data": {
      "text/plain": [
       "array([1251.458, 1509.165, 1475.327, ..., 1493.916, 1502.08 , 1503.82 ])"
      ]
     },
     "execution_count": 9,
     "metadata": {},
     "output_type": "execute_result"
    }
   ],
   "source": [
    "y_test_rf"
   ]
  },
  {
   "cell_type": "code",
   "execution_count": 10,
   "id": "271b974c",
   "metadata": {},
   "outputs": [
    {
     "name": "stdout",
     "output_type": "stream",
     "text": [
      "Współczynnik determinacji R^2: 0.9858658724826729\n",
      "Błąd średniokwadratowy MSE: 464.27820947927415\n"
     ]
    }
   ],
   "source": [
    "r2 = r2_score(y_test, y_test_rf)\n",
    "print(f\"Współczynnik determinacji R^2: {r2}\")\n",
    "mse = mean_squared_error(y_test, y_test_rf)\n",
    "print(f\"Błąd średniokwadratowy MSE: {mse}\")"
   ]
  },
  {
   "cell_type": "code",
   "execution_count": 11,
   "id": "dc0b2f3f",
   "metadata": {},
   "outputs": [
    {
     "name": "stdout",
     "output_type": "stream",
     "text": [
      "Współczynnik determinacji R^2: 0.9970027613006969\n",
      "Błąd średniokwadratowy MSE: 106.55512090599251\n"
     ]
    }
   ],
   "source": [
    "###Metryki błędu dla zbioru treningowego\n",
    "y_train_rf =random_forest_model.predict(X_train)\n",
    "r2_train = r2_score(y_train, y_train_rf)\n",
    "print(f\"Współczynnik determinacji R^2: {r2_train}\")\n",
    "mse_train = mean_squared_error(y_train, y_train_rf)\n",
    "print(f\"Błąd średniokwadratowy MSE: {mse_train}\")"
   ]
  },
  {
   "cell_type": "markdown",
   "id": "17a25621",
   "metadata": {},
   "source": [
    "# Walidacja krzyżowa"
   ]
  },
  {
   "cell_type": "code",
   "execution_count": 12,
   "id": "05906576",
   "metadata": {},
   "outputs": [],
   "source": [
    "from sklearn.model_selection import cross_val_score"
   ]
  },
  {
   "cell_type": "code",
   "execution_count": 13,
   "id": "ef85b6c1",
   "metadata": {},
   "outputs": [],
   "source": [
    "# Przeprowadź walidację krzyżową z 5 foldami i oblicz R^2 jakość modelu\n",
    "cv_scores = cross_val_score(random_forest_model, X_train, y_train, cv=15, scoring='r2')"
   ]
  },
  {
   "cell_type": "code",
   "execution_count": 14,
   "id": "61e41f94",
   "metadata": {},
   "outputs": [],
   "source": [
    "# Oblicz średnią wartość R^2 po wszystkich foldach\n",
    "mean_r2 = cv_scores.mean()"
   ]
  },
  {
   "cell_type": "code",
   "execution_count": 15,
   "id": "6c91e8f5",
   "metadata": {},
   "outputs": [
    {
     "name": "stdout",
     "output_type": "stream",
     "text": [
      "Średni R^2 po walidacji krzyżowej: 0.9857657738626646\n"
     ]
    }
   ],
   "source": [
    "print(\"Średni R^2 po walidacji krzyżowej:\", mean_r2)"
   ]
  },
  {
   "cell_type": "code",
   "execution_count": 16,
   "id": "07233c25",
   "metadata": {},
   "outputs": [
    {
     "name": "stdout",
     "output_type": "stream",
     "text": [
      "Średni R^2 po walidacji krzyżowej: 0.9823941091823943\n"
     ]
    }
   ],
   "source": [
    "# Przeprowadź walidację krzyżową z 5 foldami i oblicz R^2 jakość modelu\n",
    "cv_scores_test = cross_val_score(random_forest_model, X_test, y_test, cv=25, scoring='r2')\n",
    "# Oblicz średnią wartość R^2 po wszystkich foldach\n",
    "mean_r2_test = cv_scores_test.mean()\n",
    "print(\"Średni R^2 po walidacji krzyżowej:\", mean_r2_test)"
   ]
  },
  {
   "cell_type": "markdown",
   "id": "2755c678",
   "metadata": {},
   "source": [
    "# Wykresy R2"
   ]
  },
  {
   "cell_type": "code",
   "execution_count": 17,
   "id": "f9e759f9",
   "metadata": {},
   "outputs": [],
   "source": [
    "test_predictions_rf = pd.Series(y_test_rf)\n",
    "pred_df = pd.DataFrame(y_test,columns = ['Test TRUE Y'])\n",
    "pred_df = pd.concat([pred_df,test_predictions_rf],axis = 1)\n",
    "pred_df.columns = ['Test true y', 'Pred']"
   ]
  },
  {
   "cell_type": "code",
   "execution_count": 18,
   "id": "d477b8bd",
   "metadata": {},
   "outputs": [],
   "source": [
    "train_predictions_rf = pd.Series(y_train_rf)\n",
    "train_df = pd.DataFrame(y_train,columns = ['Test TRUE Y'])\n",
    "train_df = pd.concat([train_df,train_predictions_rf],axis = 1)\n",
    "train_df.columns = ['Test true y', 'Pred']"
   ]
  },
  {
   "cell_type": "code",
   "execution_count": 19,
   "id": "a369306d",
   "metadata": {},
   "outputs": [
    {
     "data": {
      "text/plain": [
       "<Axes: xlabel='Test true y', ylabel='Pred'>"
      ]
     },
     "execution_count": 19,
     "metadata": {},
     "output_type": "execute_result"
    },
    {
     "data": {
      "image/png": "[encoded data removed]",
      "text/plain": [
       "<Figure size 432x288 with 1 Axes>"
      ]
     },
     "metadata": {
      "needs_background": "light"
     },
     "output_type": "display_data"
    }
   ],
   "source": [
    "sns.scatterplot(x = 'Test true y', y = 'Pred', data = train_df)\n",
    "sns.scatterplot(x = 'Test true y', y = 'Pred', data = pred_df, alpha = 0.2)"
   ]
  },
  {
   "cell_type": "code",
   "execution_count": 20,
   "id": "46c2f78c",
   "metadata": {},
   "outputs": [
    {
     "data": {
      "text/html": [
       "<div>\n",
       "<style scoped>\n",
       "    .dataframe tbody tr th:only-of-type {\n",
       "        vertical-align: middle;\n",
       "    }\n",
       "\n",
       "    .dataframe tbody tr th {\n",
       "        vertical-align: top;\n",
       "    }\n",
       "\n",
       "    .dataframe thead th {\n",
       "        text-align: right;\n",
       "    }\n",
       "</style>\n",
       "<table border=\"1\" class=\"dataframe\">\n",
       "  <thead>\n",
       "    <tr style=\"text-align: right;\">\n",
       "      <th></th>\n",
       "      <th>Test true y</th>\n",
       "      <th>Pred</th>\n",
       "    </tr>\n",
       "  </thead>\n",
       "  <tbody>\n",
       "    <tr>\n",
       "      <th>0</th>\n",
       "      <td>1613.37</td>\n",
       "      <td>1607.951</td>\n",
       "    </tr>\n",
       "    <tr>\n",
       "      <th>1</th>\n",
       "      <td>1314.90</td>\n",
       "      <td>1329.330</td>\n",
       "    </tr>\n",
       "    <tr>\n",
       "      <th>2</th>\n",
       "      <td>1800.81</td>\n",
       "      <td>1804.499</td>\n",
       "    </tr>\n",
       "    <tr>\n",
       "      <th>3</th>\n",
       "      <td>1267.31</td>\n",
       "      <td>1262.545</td>\n",
       "    </tr>\n",
       "    <tr>\n",
       "      <th>4</th>\n",
       "      <td>1582.90</td>\n",
       "      <td>1585.350</td>\n",
       "    </tr>\n",
       "    <tr>\n",
       "      <th>...</th>\n",
       "      <td>...</td>\n",
       "      <td>...</td>\n",
       "    </tr>\n",
       "    <tr>\n",
       "      <th>1714</th>\n",
       "      <td>1377.30</td>\n",
       "      <td>1365.329</td>\n",
       "    </tr>\n",
       "    <tr>\n",
       "      <th>1715</th>\n",
       "      <td>1360.43</td>\n",
       "      <td>1366.990</td>\n",
       "    </tr>\n",
       "    <tr>\n",
       "      <th>1716</th>\n",
       "      <td>1246.87</td>\n",
       "      <td>1247.890</td>\n",
       "    </tr>\n",
       "    <tr>\n",
       "      <th>1717</th>\n",
       "      <td>1557.03</td>\n",
       "      <td>1558.477</td>\n",
       "    </tr>\n",
       "    <tr>\n",
       "      <th>1718</th>\n",
       "      <td>1349.37</td>\n",
       "      <td>1353.266</td>\n",
       "    </tr>\n",
       "  </tbody>\n",
       "</table>\n",
       "<p>1719 rows × 2 columns</p>\n",
       "</div>"
      ],
      "text/plain": [
       "      Test true y      Pred\n",
       "0         1613.37  1607.951\n",
       "1         1314.90  1329.330\n",
       "2         1800.81  1804.499\n",
       "3         1267.31  1262.545\n",
       "4         1582.90  1585.350\n",
       "...           ...       ...\n",
       "1714      1377.30  1365.329\n",
       "1715      1360.43  1366.990\n",
       "1716      1246.87  1247.890\n",
       "1717      1557.03  1558.477\n",
       "1718      1349.37  1353.266\n",
       "\n",
       "[1719 rows x 2 columns]"
      ]
     },
     "execution_count": 20,
     "metadata": {},
     "output_type": "execute_result"
    }
   ],
   "source": [
    "train_df"
   ]
  },
  {
   "cell_type": "code",
   "execution_count": 21,
   "id": "6c92c06d",
   "metadata": {},
   "outputs": [
    {
     "data": {
      "text/html": [
       "<div>\n",
       "<style scoped>\n",
       "    .dataframe tbody tr th:only-of-type {\n",
       "        vertical-align: middle;\n",
       "    }\n",
       "\n",
       "    .dataframe tbody tr th {\n",
       "        vertical-align: top;\n",
       "    }\n",
       "\n",
       "    .dataframe thead th {\n",
       "        text-align: right;\n",
       "    }\n",
       "</style>\n",
       "<table border=\"1\" class=\"dataframe\">\n",
       "  <thead>\n",
       "    <tr style=\"text-align: right;\">\n",
       "      <th></th>\n",
       "      <th>Test true y</th>\n",
       "      <th>Pred</th>\n",
       "    </tr>\n",
       "  </thead>\n",
       "  <tbody>\n",
       "    <tr>\n",
       "      <th>0</th>\n",
       "      <td>1252.40</td>\n",
       "      <td>1251.458</td>\n",
       "    </tr>\n",
       "    <tr>\n",
       "      <th>1</th>\n",
       "      <td>1525.30</td>\n",
       "      <td>1509.165</td>\n",
       "    </tr>\n",
       "    <tr>\n",
       "      <th>2</th>\n",
       "      <td>1481.59</td>\n",
       "      <td>1475.327</td>\n",
       "    </tr>\n",
       "    <tr>\n",
       "      <th>3</th>\n",
       "      <td>1410.40</td>\n",
       "      <td>1379.020</td>\n",
       "    </tr>\n",
       "    <tr>\n",
       "      <th>4</th>\n",
       "      <td>1537.50</td>\n",
       "      <td>1538.632</td>\n",
       "    </tr>\n",
       "    <tr>\n",
       "      <th>...</th>\n",
       "      <td>...</td>\n",
       "      <td>...</td>\n",
       "    </tr>\n",
       "    <tr>\n",
       "      <th>1141</th>\n",
       "      <td>1485.86</td>\n",
       "      <td>1498.816</td>\n",
       "    </tr>\n",
       "    <tr>\n",
       "      <th>1142</th>\n",
       "      <td>1309.19</td>\n",
       "      <td>1316.880</td>\n",
       "    </tr>\n",
       "    <tr>\n",
       "      <th>1143</th>\n",
       "      <td>1471.30</td>\n",
       "      <td>1493.916</td>\n",
       "    </tr>\n",
       "    <tr>\n",
       "      <th>1144</th>\n",
       "      <td>1485.40</td>\n",
       "      <td>1502.080</td>\n",
       "    </tr>\n",
       "    <tr>\n",
       "      <th>1145</th>\n",
       "      <td>1493.10</td>\n",
       "      <td>1503.820</td>\n",
       "    </tr>\n",
       "  </tbody>\n",
       "</table>\n",
       "<p>1146 rows × 2 columns</p>\n",
       "</div>"
      ],
      "text/plain": [
       "      Test true y      Pred\n",
       "0         1252.40  1251.458\n",
       "1         1525.30  1509.165\n",
       "2         1481.59  1475.327\n",
       "3         1410.40  1379.020\n",
       "4         1537.50  1538.632\n",
       "...           ...       ...\n",
       "1141      1485.86  1498.816\n",
       "1142      1309.19  1316.880\n",
       "1143      1471.30  1493.916\n",
       "1144      1485.40  1502.080\n",
       "1145      1493.10  1503.820\n",
       "\n",
       "[1146 rows x 2 columns]"
      ]
     },
     "execution_count": 21,
     "metadata": {},
     "output_type": "execute_result"
    }
   ],
   "source": [
    "pred_df"
   ]
  },
  {
   "cell_type": "markdown",
   "id": "2f6bdb63",
   "metadata": {},
   "source": [
    "# Zapis do pliku zbioru testowego i treningowego"
   ]
  },
  {
   "cell_type": "code",
   "execution_count": 22,
   "id": "d52f7c90",
   "metadata": {},
   "outputs": [],
   "source": [
    "import os\n",
    "directory_path = 'D:/PhD/ML/RF/U'\n",
    "if not os.path.exists(directory_path):\n",
    "    os.makedirs(directory_path)\n",
    "# train_df.to_csv(os.path.join(directory_path, 'train_set_RF_U.csv'), sep=';', encoding='utf-8')\n",
    "# pred_df.to_csv(os.path.join(directory_path, 'test_set_RF_U.csv'), sep=';', encoding='utf-8') "
   ]
  },
  {
   "cell_type": "markdown",
   "id": "c3b68cc0",
   "metadata": {},
   "source": [
    "# Schemat obliczeń dla konkretnej cieczy jonowej"
   ]
  },
  {
   "cell_type": "code",
   "execution_count": 23,
   "id": "d7898694",
   "metadata": {},
   "outputs": [],
   "source": [
    "def predictions3(MC,MA,SYM,P,T):\n",
    "    res = []\n",
    "    for j in T:\n",
    "        for i in P:\n",
    "            new_geom = [[MC,MA,SYM,i,j]]\n",
    "            new_geom = scaler.transform(new_geom)\n",
    "            res.append(random_forest_model.predict(new_geom))\n",
    "            #print(model.predict(new_geom))\n",
    "    return res"
   ]
  },
  {
   "cell_type": "code",
   "execution_count": 24,
   "id": "5b9e3261",
   "metadata": {},
   "outputs": [],
   "source": [
    "nazwa = 'S222_NTF2'\n",
    "Mcat = 119.24\n",
    "Man = 280.146\n",
    "\n",
    "P = [0.1,5,10,20,30,40,50,60,70,80,90,95]\n",
    "T = [283.15,293.15,303.15,313.15,323.15,333.15,343.15]\n",
    "result = predictions3(Mcat,Man,0,P,T);"
   ]
  },
  {
   "cell_type": "code",
   "execution_count": 25,
   "id": "7ab41012",
   "metadata": {},
   "outputs": [
    {
     "name": "stdout",
     "output_type": "stream",
     "text": [
      "1282.415\n",
      "1294.2599999999998\n",
      "1339.569\n",
      "1355.549\n",
      "1376.26\n",
      "1410.528\n",
      "1430.2679999999998\n",
      "1460.3\n",
      "1467.35\n",
      "1488.8100000000002\n",
      "1519.0350000000003\n",
      "1529.1680000000001\n",
      "1273.3519999999999\n",
      "1273.4929999999997\n",
      "1293.038\n",
      "1313.3799999999999\n",
      "1355.128\n",
      "1374.0279999999998\n",
      "1404.775\n",
      "1432.891\n",
      "1454.4959999999999\n",
      "1476.5600000000002\n",
      "1503.4950000000001\n",
      "1513.5700000000002\n",
      "1241.364\n",
      "1250.364\n",
      "1280.078\n",
      "1304.3250000000003\n",
      "1338.828\n",
      "1361.8210000000001\n",
      "1394.4489999999998\n",
      "1418.376\n",
      "1443.9660000000001\n",
      "1464.382\n",
      "1482.523\n",
      "1494.68\n",
      "1223.4550000000002\n",
      "1231.0889999999997\n",
      "1251.578\n",
      "1287.0679999999998\n",
      "1317.5700000000002\n",
      "1349.9810000000002\n",
      "1367.717\n",
      "1396.734\n",
      "1421.5489999999998\n",
      "1443.6899999999998\n",
      "1459.685\n",
      "1477.826\n",
      "1218.7345\n",
      "1209.1909999999998\n",
      "1232.2910000000002\n",
      "1257.1040000000003\n",
      "1290.51\n",
      "1335.924\n",
      "1351.806\n",
      "1373.9000000000003\n",
      "1411.541\n",
      "1425.0010000000002\n",
      "1451.075\n",
      "1454.9309999999998\n",
      "1187.751\n",
      "1210.8\n",
      "1216.944\n",
      "1254.368\n",
      "1276.8799999999999\n",
      "1300.5480000000002\n",
      "1331.6770000000001\n",
      "1371.71\n",
      "1385.255\n",
      "1412.511\n",
      "1429.313\n",
      "1436.5130000000001\n",
      "1154.2199999999998\n",
      "1179.45\n",
      "1192.484\n",
      "1221.7050000000002\n",
      "1273.9299999999998\n",
      "1291.1560000000002\n",
      "1315.8200000000002\n",
      "1346.188\n",
      "1366.2400000000002\n",
      "1396.27\n",
      "1420.29\n",
      "1426.6999999999998\n"
     ]
    }
   ],
   "source": [
    "res_flat = np.array(result).flatten()  # przekształcenie do jednowymiarowej tablicy numpy\n",
    "res_numerical = [val.item() for val in res_flat]  # wyodrębnienie wartości liczbowych\n",
    "for i in res_numerical:\n",
    "    print(i)"
   ]
  },
  {
   "cell_type": "code",
   "execution_count": 26,
   "id": "85f490dd",
   "metadata": {},
   "outputs": [],
   "source": [
    "import os\n",
    "directory_path = 'D:/PhD/ML/RF/U/'\n",
    "directory_path + nazwa \n",
    "if not os.path.exists(directory_path):\n",
    "    os.makedirs(directory_path)\n",
    "tablica_danych = np.array(res_numerical).reshape(len(T), len(P))\n",
    "dane = pd.DataFrame(tablica_danych)\n",
    "dane = dane.T\n",
    "dane.to_excel(directory_path+nazwa+'_U_DATA_RF.xlsx', index=False)"
   ]
  },
  {
   "cell_type": "code",
   "execution_count": null,
   "id": "85bf73e1",
   "metadata": {},
   "outputs": [],
   "source": []
  }
 ],
 "metadata": {
  "kernelspec": {
   "display_name": "Python 3 (ipykernel)",
   "language": "python",
   "name": "python3"
  },
  "language_info": {
   "codemirror_mode": {
    "name": "ipython",
    "version": 3
   },
   "file_extension": ".py",
   "mimetype": "text/x-python",
   "name": "python",
   "nbconvert_exporter": "python",
   "pygments_lexer": "ipython3",
   "version": "3.9.18"
  }
 },
 "nbformat": 4,
 "nbformat_minor": 5
}
