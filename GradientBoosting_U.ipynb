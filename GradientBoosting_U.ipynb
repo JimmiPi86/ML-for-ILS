{
 "cells": [
  {
   "cell_type": "code",
   "execution_count": 1,
   "id": "96ebf6c5",
   "metadata": {},
   "outputs": [],
   "source": [
    "#import libraries\n",
    "import numpy as np\n",
    "import pandas as pd\n",
    "import seaborn as sns\n",
    "from sklearn.model_selection import train_test_split\n",
    "from sklearn.preprocessing import StandardScaler\n",
    "from sklearn.metrics import mean_squared_error\n",
    "from sklearn.ensemble import GradientBoostingRegressor\n",
    "from sklearn.metrics import r2_score\n",
    "from sklearn.model_selection import cross_val_score"
   ]
  },
  {
   "cell_type": "code",
   "execution_count": 2,
   "id": "2a6d777c",
   "metadata": {},
   "outputs": [],
   "source": [
    "df = pd.read_csv('zbior_23.csv',encoding = 'utf8',sep=';')\n",
    "X = df[['M_C', 'M_A', 'SYM', 'P', 'T']].values\n",
    "y = df[['EXP U']].values"
   ]
  },
  {
   "cell_type": "code",
   "execution_count": 3,
   "id": "55615d71",
   "metadata": {},
   "outputs": [
    {
     "name": "stdout",
     "output_type": "stream",
     "text": [
      "(1719, 5)\n",
      "(1719, 1)\n",
      "Test shapes\n",
      "(1146, 5)\n",
      "(1146, 1)\n"
     ]
    }
   ],
   "source": [
    "'''Przygotowanie danych - podzielenie danych na zbiór trenujacy i testowy'''\n",
    "\n",
    "X_train, X_test, y_train, y_test = train_test_split(\n",
    "X,y,test_size = 0.4, random_state = 42)\n",
    "\n",
    "print(X_train.shape)\n",
    "print(y_train.shape)\n",
    "print('Test shapes')\n",
    "print(X_test.shape)\n",
    "print(y_test.shape)"
   ]
  },
  {
   "cell_type": "code",
   "execution_count": 4,
   "id": "b4453914",
   "metadata": {},
   "outputs": [],
   "source": [
    "# Skalowanie cech dla lepszej wydajności modelu GB\n",
    "scaler = StandardScaler()\n",
    "X_train = scaler.fit_transform(X_train)\n",
    "X_test = scaler.transform(X_test)"
   ]
  },
  {
   "cell_type": "code",
   "execution_count": 5,
   "id": "f9196421",
   "metadata": {},
   "outputs": [],
   "source": [
    "y_train = y_train.ravel()\n",
    "y_test = y_test.ravel()"
   ]
  },
  {
   "cell_type": "code",
   "execution_count": 6,
   "id": "6fb36637",
   "metadata": {},
   "outputs": [
    {
     "data": {
      "text/plain": [
       "GradientBoostingRegressor(random_state=42)"
      ]
     },
     "execution_count": 6,
     "metadata": {},
     "output_type": "execute_result"
    }
   ],
   "source": [
    "gb_model = GradientBoostingRegressor(random_state=42)\n",
    "gb_model.fit(X_train, y_train)"
   ]
  },
  {
   "cell_type": "code",
   "execution_count": 7,
   "id": "9d0327b9",
   "metadata": {},
   "outputs": [],
   "source": [
    "y_test_gb = gb_model.predict(X_test)\n",
    "y_train_gb =gb_model.predict(X_train)"
   ]
  },
  {
   "cell_type": "code",
   "execution_count": 8,
   "id": "e4ee24f2",
   "metadata": {},
   "outputs": [
    {
     "name": "stdout",
     "output_type": "stream",
     "text": [
      "Współczynnik determinacji R^2: 0.9894548938999617\n",
      "Błąd średniokwadratowy MSE: 346.3859352402857\n"
     ]
    }
   ],
   "source": [
    "### Metryki dla zbioru testowego\n",
    "r2 = r2_score(y_test, y_test_gb)\n",
    "print(f\"Współczynnik determinacji R^2: {r2}\")\n",
    "mse = mean_squared_error(y_test, y_test_gb)\n",
    "print(f\"Błąd średniokwadratowy MSE: {mse}\")"
   ]
  },
  {
   "cell_type": "code",
   "execution_count": 9,
   "id": "b2e29fa2",
   "metadata": {},
   "outputs": [
    {
     "name": "stdout",
     "output_type": "stream",
     "text": [
      "Współczynnik determinacji R^2: 0.9917555597315069\n",
      "Błąd średniokwadratowy MSE: 293.09888792499663\n"
     ]
    }
   ],
   "source": [
    "###MEtryki dla zbioru treningowego\n",
    "r2_train = r2_score(y_train, y_train_gb)\n",
    "print(f\"Współczynnik determinacji R^2: {r2_train}\")\n",
    "mse_train = mean_squared_error(y_train, y_train_gb)\n",
    "print(f\"Błąd średniokwadratowy MSE: {mse_train}\")"
   ]
  },
  {
   "cell_type": "markdown",
   "id": "387cd006",
   "metadata": {},
   "source": [
    "## Walidacja krzyżowa"
   ]
  },
  {
   "cell_type": "code",
   "execution_count": 10,
   "id": "58e78b9c",
   "metadata": {},
   "outputs": [
    {
     "name": "stdout",
     "output_type": "stream",
     "text": [
      "Średni R^2 po walidacji krzyżowej: 0.9881888919503987\n"
     ]
    }
   ],
   "source": [
    "# Przeprowadź walidację krzyżową z 5 foldami i oblicz R^2 jakość modelu\n",
    "cv_scores = cross_val_score(gb_model, X_train, y_train, cv=25, scoring='r2')\n",
    "# Oblicz średnią wartość R^2 po wszystkich foldach\n",
    "mean_r2 = cv_scores.mean()\n",
    "print(\"Średni R^2 po walidacji krzyżowej:\", mean_r2)"
   ]
  },
  {
   "cell_type": "code",
   "execution_count": 11,
   "id": "516c7b8f",
   "metadata": {},
   "outputs": [
    {
     "name": "stdout",
     "output_type": "stream",
     "text": [
      "Średni R^2 po walidacji krzyżowej: 0.9859403293764385\n"
     ]
    }
   ],
   "source": [
    "# Przeprowadź walidację krzyżową z 5 foldami i oblicz R^2 jakość modelu\n",
    "cv_scores_test = cross_val_score(gb_model, X_test, y_test, cv=25, scoring='r2')\n",
    "# Oblicz średnią wartość R^2 po wszystkich foldach\n",
    "mean_r2_test = cv_scores_test.mean()\n",
    "print(\"Średni R^2 po walidacji krzyżowej:\", mean_r2_test)"
   ]
  },
  {
   "cell_type": "markdown",
   "id": "a181ee3a",
   "metadata": {},
   "source": [
    "## Wykresy R2 "
   ]
  },
  {
   "cell_type": "code",
   "execution_count": 12,
   "id": "a9fac680",
   "metadata": {},
   "outputs": [],
   "source": [
    "test_predictions_gb = pd.Series(y_test_gb)\n",
    "pred_df = pd.DataFrame(y_test,columns = ['Test TRUE Y'])\n",
    "pred_df = pd.concat([pred_df,test_predictions_gb],axis = 1)\n",
    "pred_df.columns = ['Test true y', 'Pred']"
   ]
  },
  {
   "cell_type": "code",
   "execution_count": 13,
   "id": "22c792ec",
   "metadata": {},
   "outputs": [],
   "source": [
    "train_predictions_gb = pd.Series(y_train_gb)\n",
    "train_df = pd.DataFrame(y_train,columns = ['Test TRUE Y'])\n",
    "train_df = pd.concat([train_df,train_predictions_gb],axis = 1)\n",
    "train_df.columns = ['Test true y', 'Pred']"
   ]
  },
  {
   "cell_type": "code",
   "execution_count": 14,
   "id": "2b1ba8a6",
   "metadata": {},
   "outputs": [
    {
     "data": {
      "text/plain": [
       "<Axes: xlabel='Test true y', ylabel='Pred'>"
      ]
     },
     "execution_count": 14,
     "metadata": {},
     "output_type": "execute_result"
    },
    {
     "data": {
      "image/png": "[encoded data removed]",
      "text/plain": [
       "<Figure size 432x288 with 1 Axes>"
      ]
     },
     "metadata": {
      "needs_background": "light"
     },
     "output_type": "display_data"
    }
   ],
   "source": [
    "sns.scatterplot(x = 'Test true y', y = 'Pred', data = train_df)\n",
    "sns.scatterplot(x = 'Test true y', y = 'Pred', data = pred_df, alpha = 0.2)"
   ]
  },
  {
   "cell_type": "code",
   "execution_count": 15,
   "id": "4d19511a",
   "metadata": {},
   "outputs": [
    {
     "data": {
      "text/html": [
       "<div>\n",
       "<style scoped>\n",
       "    .dataframe tbody tr th:only-of-type {\n",
       "        vertical-align: middle;\n",
       "    }\n",
       "\n",
       "    .dataframe tbody tr th {\n",
       "        vertical-align: top;\n",
       "    }\n",
       "\n",
       "    .dataframe thead th {\n",
       "        text-align: right;\n",
       "    }\n",
       "</style>\n",
       "<table border=\"1\" class=\"dataframe\">\n",
       "  <thead>\n",
       "    <tr style=\"text-align: right;\">\n",
       "      <th></th>\n",
       "      <th>Test true y</th>\n",
       "      <th>Pred</th>\n",
       "    </tr>\n",
       "  </thead>\n",
       "  <tbody>\n",
       "    <tr>\n",
       "      <th>0</th>\n",
       "      <td>1613.37</td>\n",
       "      <td>1603.780746</td>\n",
       "    </tr>\n",
       "    <tr>\n",
       "      <th>1</th>\n",
       "      <td>1314.90</td>\n",
       "      <td>1329.026457</td>\n",
       "    </tr>\n",
       "    <tr>\n",
       "      <th>2</th>\n",
       "      <td>1800.81</td>\n",
       "      <td>1804.019400</td>\n",
       "    </tr>\n",
       "    <tr>\n",
       "      <th>3</th>\n",
       "      <td>1267.31</td>\n",
       "      <td>1270.382940</td>\n",
       "    </tr>\n",
       "    <tr>\n",
       "      <th>4</th>\n",
       "      <td>1582.90</td>\n",
       "      <td>1580.490182</td>\n",
       "    </tr>\n",
       "    <tr>\n",
       "      <th>...</th>\n",
       "      <td>...</td>\n",
       "      <td>...</td>\n",
       "    </tr>\n",
       "    <tr>\n",
       "      <th>1714</th>\n",
       "      <td>1377.30</td>\n",
       "      <td>1374.660222</td>\n",
       "    </tr>\n",
       "    <tr>\n",
       "      <th>1715</th>\n",
       "      <td>1360.43</td>\n",
       "      <td>1366.917359</td>\n",
       "    </tr>\n",
       "    <tr>\n",
       "      <th>1716</th>\n",
       "      <td>1246.87</td>\n",
       "      <td>1253.147962</td>\n",
       "    </tr>\n",
       "    <tr>\n",
       "      <th>1717</th>\n",
       "      <td>1557.03</td>\n",
       "      <td>1564.542897</td>\n",
       "    </tr>\n",
       "    <tr>\n",
       "      <th>1718</th>\n",
       "      <td>1349.37</td>\n",
       "      <td>1368.031530</td>\n",
       "    </tr>\n",
       "  </tbody>\n",
       "</table>\n",
       "<p>1719 rows × 2 columns</p>\n",
       "</div>"
      ],
      "text/plain": [
       "      Test true y         Pred\n",
       "0         1613.37  1603.780746\n",
       "1         1314.90  1329.026457\n",
       "2         1800.81  1804.019400\n",
       "3         1267.31  1270.382940\n",
       "4         1582.90  1580.490182\n",
       "...           ...          ...\n",
       "1714      1377.30  1374.660222\n",
       "1715      1360.43  1366.917359\n",
       "1716      1246.87  1253.147962\n",
       "1717      1557.03  1564.542897\n",
       "1718      1349.37  1368.031530\n",
       "\n",
       "[1719 rows x 2 columns]"
      ]
     },
     "execution_count": 15,
     "metadata": {},
     "output_type": "execute_result"
    }
   ],
   "source": [
    "train_df"
   ]
  },
  {
   "cell_type": "code",
   "execution_count": 16,
   "id": "b1fee5d4",
   "metadata": {},
   "outputs": [
    {
     "data": {
      "text/html": [
       "<div>\n",
       "<style scoped>\n",
       "    .dataframe tbody tr th:only-of-type {\n",
       "        vertical-align: middle;\n",
       "    }\n",
       "\n",
       "    .dataframe tbody tr th {\n",
       "        vertical-align: top;\n",
       "    }\n",
       "\n",
       "    .dataframe thead th {\n",
       "        text-align: right;\n",
       "    }\n",
       "</style>\n",
       "<table border=\"1\" class=\"dataframe\">\n",
       "  <thead>\n",
       "    <tr style=\"text-align: right;\">\n",
       "      <th></th>\n",
       "      <th>Test true y</th>\n",
       "      <th>Pred</th>\n",
       "    </tr>\n",
       "  </thead>\n",
       "  <tbody>\n",
       "    <tr>\n",
       "      <th>0</th>\n",
       "      <td>1252.40</td>\n",
       "      <td>1262.544421</td>\n",
       "    </tr>\n",
       "    <tr>\n",
       "      <th>1</th>\n",
       "      <td>1525.30</td>\n",
       "      <td>1487.031750</td>\n",
       "    </tr>\n",
       "    <tr>\n",
       "      <th>2</th>\n",
       "      <td>1481.59</td>\n",
       "      <td>1462.363381</td>\n",
       "    </tr>\n",
       "    <tr>\n",
       "      <th>3</th>\n",
       "      <td>1410.40</td>\n",
       "      <td>1385.526970</td>\n",
       "    </tr>\n",
       "    <tr>\n",
       "      <th>4</th>\n",
       "      <td>1537.50</td>\n",
       "      <td>1529.127354</td>\n",
       "    </tr>\n",
       "    <tr>\n",
       "      <th>...</th>\n",
       "      <td>...</td>\n",
       "      <td>...</td>\n",
       "    </tr>\n",
       "    <tr>\n",
       "      <th>1141</th>\n",
       "      <td>1485.86</td>\n",
       "      <td>1511.844564</td>\n",
       "    </tr>\n",
       "    <tr>\n",
       "      <th>1142</th>\n",
       "      <td>1309.19</td>\n",
       "      <td>1319.849298</td>\n",
       "    </tr>\n",
       "    <tr>\n",
       "      <th>1143</th>\n",
       "      <td>1471.30</td>\n",
       "      <td>1486.221626</td>\n",
       "    </tr>\n",
       "    <tr>\n",
       "      <th>1144</th>\n",
       "      <td>1485.40</td>\n",
       "      <td>1503.250383</td>\n",
       "    </tr>\n",
       "    <tr>\n",
       "      <th>1145</th>\n",
       "      <td>1493.10</td>\n",
       "      <td>1491.428932</td>\n",
       "    </tr>\n",
       "  </tbody>\n",
       "</table>\n",
       "<p>1146 rows × 2 columns</p>\n",
       "</div>"
      ],
      "text/plain": [
       "      Test true y         Pred\n",
       "0         1252.40  1262.544421\n",
       "1         1525.30  1487.031750\n",
       "2         1481.59  1462.363381\n",
       "3         1410.40  1385.526970\n",
       "4         1537.50  1529.127354\n",
       "...           ...          ...\n",
       "1141      1485.86  1511.844564\n",
       "1142      1309.19  1319.849298\n",
       "1143      1471.30  1486.221626\n",
       "1144      1485.40  1503.250383\n",
       "1145      1493.10  1491.428932\n",
       "\n",
       "[1146 rows x 2 columns]"
      ]
     },
     "execution_count": 16,
     "metadata": {},
     "output_type": "execute_result"
    }
   ],
   "source": [
    "pred_df"
   ]
  },
  {
   "cell_type": "markdown",
   "id": "7b9edd49",
   "metadata": {},
   "source": [
    "# Zapis zbioru testowego i treningowego"
   ]
  },
  {
   "cell_type": "code",
   "execution_count": 17,
   "id": "1e2b76aa",
   "metadata": {},
   "outputs": [],
   "source": [
    "import os\n",
    "directory_path = 'D:/PhD/ML/GradientBoosting/U'\n",
    "if not os.path.exists(directory_path):\n",
    "    os.makedirs(directory_path)\n",
    "# train_df.to_csv(os.path.join(directory_path, 'train_set_GB_U.csv'), sep=';', encoding='utf-8')\n",
    "# pred_df.to_csv(os.path.join(directory_path, 'test_set_GB_U.csv'), sep=';', encoding='utf-8') "
   ]
  },
  {
   "cell_type": "markdown",
   "id": "c6d21df8",
   "metadata": {},
   "source": [
    "#  Schemat obliczeń dla konkretnej cieczy jonowej"
   ]
  },
  {
   "cell_type": "code",
   "execution_count": 18,
   "id": "868e3b47",
   "metadata": {},
   "outputs": [],
   "source": [
    "def predictions3(MC,MA,SYM,P,T):\n",
    "    res = []\n",
    "    for j in T:\n",
    "        for i in P:\n",
    "            new_geom = [[MC,MA,SYM,i,j]]\n",
    "            new_geom = scaler.transform(new_geom)\n",
    "            res.append(gb_model.predict(new_geom))\n",
    "            #print(model.predict(new_geom))\n",
    "    return res"
   ]
  },
  {
   "cell_type": "code",
   "execution_count": 19,
   "id": "9025dcde",
   "metadata": {},
   "outputs": [],
   "source": [
    "nazwa = 'C2Mim_C1SO3'\n",
    "Mcat = 111.092\n",
    "Man = 94.981\n",
    "\n",
    "P = [0.1,15,30,46,61]\n",
    "T = [293.15,298.15,303.15,313.15,323.15]\n",
    "result = predictions3(Mcat,Man,0,P,T);"
   ]
  },
  {
   "cell_type": "code",
   "execution_count": 20,
   "id": "93008dee",
   "metadata": {},
   "outputs": [
    {
     "name": "stdout",
     "output_type": "stream",
     "text": [
      "1727.1944980681278\n",
      "1744.2001570877326\n",
      "1820.8753729796967\n",
      "1854.463669819922\n",
      "1877.7539675293137\n",
      "1720.0014214244823\n",
      "1737.3989580630362\n",
      "1814.0741739550003\n",
      "1847.6624707952255\n",
      "1872.2854816467188\n",
      "1692.145736995544\n",
      "1714.3338613135095\n",
      "1808.9131625288308\n",
      "1826.9172859750317\n",
      "1851.540296826525\n",
      "1661.7380236491276\n",
      "1684.066024110894\n",
      "1788.9556740054559\n",
      "1806.9597974516569\n",
      "1822.5076276242946\n",
      "1640.6769431973275\n",
      "1663.004943659094\n",
      "1788.9556740054559\n",
      "1806.9597974516569\n",
      "1822.5076276242946\n"
     ]
    }
   ],
   "source": [
    "res_flat = np.array(result).flatten()  # przekształcenie do jednowymiarowej tablicy numpy\n",
    "res_numerical = [val.item() for val in res_flat]  # wyodrębnienie wartości liczbowych\n",
    "for i in res_numerical:\n",
    "    print(i)"
   ]
  },
  {
   "cell_type": "code",
   "execution_count": 21,
   "id": "27c4812b",
   "metadata": {},
   "outputs": [],
   "source": [
    "import os\n",
    "directory_path = 'D:/PhD/ML/GradientBoosting/U/'\n",
    "directory_path + nazwa \n",
    "if not os.path.exists(directory_path):\n",
    "    os.makedirs(directory_path)\n",
    "tablica_danych = np.array(res_numerical).reshape(len(T), len(P))\n",
    "dane = pd.DataFrame(tablica_danych)\n",
    "dane = dane.T\n",
    "dane.to_excel(directory_path+nazwa+'_U_DATA_GB.xlsx', index=False)"
   ]
  },
  {
   "cell_type": "code",
   "execution_count": null,
   "id": "c165d046",
   "metadata": {},
   "outputs": [],
   "source": []
  }
 ],
 "metadata": {
  "kernelspec": {
   "display_name": "Python 3 (ipykernel)",
   "language": "python",
   "name": "python3"
  },
  "language_info": {
   "codemirror_mode": {
    "name": "ipython",
    "version": 3
   },
   "file_extension": ".py",
   "mimetype": "text/x-python",
   "name": "python",
   "nbconvert_exporter": "python",
   "pygments_lexer": "ipython3",
   "version": "3.9.18"
  }
 },
 "nbformat": 4,
 "nbformat_minor": 5
}
